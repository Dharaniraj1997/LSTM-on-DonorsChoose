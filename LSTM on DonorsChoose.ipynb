{
 "cells": [
  {
   "cell_type": "markdown",
   "metadata": {},
   "source": [
    "# DonorsChoose\n",
    "    \n",
    "<p>\n",
    "DonorsChoose.org receives hundreds of thousands of project proposals each year for classroom projects in need of funding. Right now, a large number of volunteers is needed to manually screen each submission before it's approved to be posted on the DonorsChoose.org website.\n",
    "</p>\n",
    "<p>\n",
    "    Next year, DonorsChoose.org expects to receive close to 500,000 project proposals. As a result, there are three main problems they need to solve:\n",
    "<ul>\n",
    "<li>\n",
    "    How to scale current manual processes and resources to screen 500,000 projects so that they can be posted as quickly and as efficiently as possible</li>\n",
    "    <li>How to increase the consistency of project vetting across different volunteers to improve the experience for teachers</li>\n",
    "    <li>How to focus volunteer time on the applications that need the most assistance</li>\n",
    "    </ul>\n",
    "</p>    \n",
    "<p>\n",
    "The goal of the competition is to predict whether or not a DonorsChoose.org project proposal submitted by a teacher will be approved, using the text of project descriptions as well as additional metadata about the project, teacher, and school. DonorsChoose.org can then use this information to identify projects most likely to need further review before approval.\n",
    "</p>\n",
    "\n",
    "## About the DonorsChoose Data Set\n",
    "\n",
    "The `train.csv` data set provided by DonorsChoose contains the following features:\n",
    "\n",
    "Feature | Description \n",
    "----------|---------------\n",
    "**`project_id`** | A unique identifier for the proposed project. **Example:** `p036502`   \n",
    "**`project_title`**    | Title of the project. **Examples:**<br><ul><li><code>Art Will Make You Happy!</code></li><li><code>First Grade Fun</code></li></ul> \n",
    "**`project_grade_category`** | Grade level of students for which the project is targeted. One of the following enumerated values: <br/><ul><li><code>Grades PreK-2</code></li><li><code>Grades 3-5</code></li><li><code>Grades 6-8</code></li><li><code>Grades 9-12</code></li></ul>  \n",
    " **`project_subject_categories`** | One or more (comma-separated) subject categories for the project from the following enumerated list of values:  <br/><ul><li><code>Applied Learning</code></li><li><code>Care &amp; Hunger</code></li><li><code>Health &amp; Sports</code></li><li><code>History &amp; Civics</code></li><li><code>Literacy &amp; Language</code></li><li><code>Math &amp; Science</code></li><li><code>Music &amp; The Arts</code></li><li><code>Special Needs</code></li><li><code>Warmth</code></li></ul><br/> **Examples:** <br/><ul><li><code>Music &amp; The Arts</code></li><li><code>Literacy &amp; Language, Math &amp; Science</code></li>  \n",
    "  **`school_state`** | State where school is located ([Two-letter U.S. postal code](https://en.wikipedia.org/wiki/List_of_U.S._state_abbreviations#Postal_codes)). **Example:** `WY`\n",
    "**`project_subject_subcategories`** | One or more (comma-separated) subject subcategories for the project. **Examples:** <br/><ul><li><code>Literacy</code></li><li><code>Literature &amp; Writing, Social Sciences</code></li></ul> \n",
    "**`project_resource_summary`** | An explanation of the resources needed for the project. **Example:** <br/><ul><li><code>My students need hands on literacy materials to manage sensory needs!</code</li></ul> \n",
    "**`project_essay_1`**    | First application essay<sup>*</sup>  \n",
    "**`project_essay_2`**    | Second application essay<sup>*</sup> \n",
    "**`project_essay_3`**    | Third application essay<sup>*</sup> \n",
    "**`project_essay_4`**    | Fourth application essay<sup>*</sup> \n",
    "**`project_submitted_datetime`** | Datetime when project application was submitted. **Example:** `2016-04-28 12:43:56.245`   \n",
    "**`teacher_id`** | A unique identifier for the teacher of the proposed project. **Example:** `bdf8baa8fedef6bfeec7ae4ff1c15c56`  \n",
    "**`teacher_prefix`** | Teacher's title. One of the following enumerated values: <br/><ul><li><code>nan</code></li><li><code>Dr.</code></li><li><code>Mr.</code></li><li><code>Mrs.</code></li><li><code>Ms.</code></li><li><code>Teacher.</code></li></ul>  \n",
    "**`teacher_number_of_previously_posted_projects`** | Number of project applications previously submitted by the same teacher. **Example:** `2` \n",
    "\n",
    "<sup>*</sup> See the section <b>Notes on the Essay Data</b> for more details about these features.\n",
    "\n",
    "Additionally, the `resources.csv` data set provides more data about the resources required for each project. Each line in this file represents a resource required by a project:\n",
    "\n",
    "Feature | Description \n",
    "----------|---------------\n",
    "**`id`** | A `project_id` value from the `train.csv` file.  **Example:** `p036502`   \n",
    "**`description`** | Desciption of the resource. **Example:** `Tenor Saxophone Reeds, Box of 25`   \n",
    "**`quantity`** | Quantity of the resource required. **Example:** `3`   \n",
    "**`price`** | Price of the resource required. **Example:** `9.95`   \n",
    "\n",
    "**Note:** Many projects require multiple resources. The `id` value corresponds to a `project_id` in train.csv, so you use it as a key to retrieve all resources needed for a project:\n",
    "\n",
    "The data set contains the following label (the value you will attempt to predict):\n",
    "\n",
    "Label | Description\n",
    "----------|---------------\n",
    "`project_is_approved` | A binary flag indicating whether DonorsChoose approved the project. A value of `0` indicates the project was not approved, and a value of `1` indicates the project was approved.\n",
    "    \n",
    "### Notes on the Essay Data\n",
    "\n",
    "<ul>\n",
    "Prior to May 17, 2016, the prompts for the essays were as follows:\n",
    "<li>__project_essay_1:__ \"Introduce us to your classroom\"</li>\n",
    "<li>__project_essay_2:__ \"Tell us more about your students\"</li>\n",
    "<li>__project_essay_3:__ \"Describe how your students will use the materials you're requesting\"</li>\n",
    "<li>__project_essay_3:__ \"Close by sharing why your project will make a difference\"</li>\n",
    "</ul>\n",
    "\n",
    "_______________________________________________________________________________________________________________________________\n",
    "\n",
    "<ul>\n",
    "Starting on May 17, 2016, the number of essays was reduced from 4 to 2, and the prompts for the first 2 essays were changed to the following:<br>\n",
    "<li>__project_essay_1:__ \"Describe your students: What makes your students special? Specific details about their background, your neighborhood, and your school are all helpful.\"</li>\n",
    "<li>__project_essay_2:__ \"About your project: How will these materials make a difference in your students' learning and improve their school lives?\"</li>\n",
    "<br>For all projects with project_submitted_datetime of 2016-05-17 and later, the values of project_essay_3 and project_essay_4 will be NaN.\n",
    "</ul>\n",
    "    \n",
    "## Assignment : 14\n",
    "\n",
    "<pre>\n",
    "1. Preprocess all the Data we have in DonorsChoose <a href='https://drive.google.com/drive/folders/1MIwK7BQMev8f5CbDDVNLPaFGB32pFN60'>Dataset</a> use train.csv\n",
    "2. Combine 4 essay's into one column named - 'preprocessed_essays'. \n",
    "3. After step 2 you have to train 3 types of models as discussed below. \n",
    "4. For all the model use <a href='https://scikit-learn.org/stable/modules/model_evaluation.html#roc-metrics'>'auc'</a> as a metric. check <a href='https://datascience.stackexchange.com/a/20192'>this</a> for using auc as a metric \n",
    "5. You are free to choose any number of layers/hiddden units but you have to use same type of architectures shown below. \n",
    "6. You can use any one of the optimizers and choice of Learning rate and momentum, resources: <a href='http://cs231n.github.io/neural-networks-3/'>cs231n class notes</a>, <a href='https://www.youtube.com/watch?v=hd_KFJ5ktUc'>cs231n class video</a>. \n",
    "7. For all the model's use <a href='https://www.youtube.com/watch?v=2U6Jl7oqRkM'>TensorBoard</a> and plot the Metric value and Loss with epoch. While submitting, take a screenshot of plots and include those images in .ipynb notebook and PDF. \n",
    "8. Use Categorical Cross Entropy as Loss to minimize.\n",
    "</pre>\n",
    "    \n",
    "### Model-1\n",
    "\n",
    "Build and Train deep neural network as shown below\n",
    "    \n",
    "<img src='https://i.imgur.com/w395Yk9.png'>\n",
    "ref: https://i.imgur.com/w395Yk9.png\n",
    "    \n",
    "- __Input_seq_total_text_data__ --- You have to give Total text data columns. After this use the Embedding layer to get word vectors. Use given predefined glove word vectors, don't train any word vectors. After this use LSTM and get the LSTM output and Flatten that output. \n",
    "- __Input_school_state__ --- Give 'school_state' column as input to embedding layer and Train the Keras Embedding layer. \n",
    "- __Project_grade_category__  --- Give 'project_grade_category' column as input to embedding layer and Train the Keras Embedding layer.\n",
    "- __Input_clean_categories__ --- Give 'input_clean_categories' column as input to embedding layer and Train the Keras Embedding layer.\n",
    "- __Input_clean_subcategories__ --- Give 'input_clean_subcategories' column as input to embedding layer and Train the Keras Embedding layer.\n",
    "- __Input_clean_subcategories__ --- Give 'input_teacher_prefix' column as input to embedding layer and Train the Keras Embedding layer.\n",
    "- __Input_remaining_teacher_number_of_previously_posted_projects._resource_summary_contains_numerical_digits._price._quantity__ ---concatenate remaining columns and add a Dense layer after that. \n",
    "\n",
    "- For LSTM, you can choose your sequence padding methods on your own or you can train your LSTM without padding, there is no restriction on that.\n",
    "    \n",
    "# Below is an example of embedding layer for a categorical columns. In below code all are dummy values, we gave only for referance. \n",
    "    \n",
    "# https://stats.stackexchange.com/questions/270546/how-does-keras-embedding-layer-work\n",
    "    \n",
    "input_layer = Input(shape=(n,))\n",
    "embedding = Embedding(no_1, no_2, input_length=n)(input_layer)\n",
    "flatten = Flatten()(embedding) \n",
    "    \n",
    "### 1. Go through this blog, if you have any doubt on using predefined Embedding values in Embedding layer - https://machinelearningmastery.com/use-word-embedding-layers-deep-learning-keras/\n",
    "### 2. Please go through this link https://keras.io/getting-started/functional-api-guide/ and check the 'Multi-input and multi-output models' then you will get to know how to give multiple inputs. \n",
    "    \n",
    "### Model-2\n",
    "    \n",
    "Use the same model as above but for 'input_seq_total_text_data' give only some words in the sentance not all the words. Filter the words as below. \n",
    "    \n",
    "<pre>\n",
    "1. Train the TF-IDF on the Train data <br>\n",
    "2. Get the idf value for each word we have in the train data. <br>\n",
    "3. Remove the low idf value and high idf value words from our data. Do some analysis on the Idf values and based on those values choose the low and high threshold value. Because very frequent words and very very rare words don't give much information. (you can plot a box plots and take only the idf scores within IQR range and corresponding words)<br>\n",
    "4. Train the LSTM after removing the Low and High idf value words. (In model-1 Train on total data but in Model-2 train on data after removing some words based on IDF values)\n",
    "</pre>\n",
    "    \n",
    "### Model-3\n",
    "    \n",
    "<img src='https://i.imgur.com/fkQ8nGo.png'>\n",
    "ref: https://i.imgur.com/fkQ8nGo.png\n",
    "    \n",
    "\n",
    "- __input_seq_total_text_data__: <br>\n",
    "<pre>\n",
    "    . Use text column('essay'), and use the Embedding layer to get word vectors. <br>\n",
    "    . Use given predefined glove word vectors, don't train any word vectors. <br>\n",
    "    . Use LSTM that is given above, get the LSTM output and Flatten that output. <br>\n",
    "    . You are free to preprocess the input text as you needed. <br>\n",
    "</pre>\n",
    "- __Other_than_text_data__:<br>\n",
    "<pre>\n",
    "    . Convert all your Categorical values to onehot coded and then concatenate all these onehot vectors <br>\n",
    "    . Neumerical values and use <a href='https://keras.io/getting-started/sequential-model-guide/#sequence-classification-with-1d-convolutions'>CNN1D</a> as shown in above figure. <br>\n",
    "    . You are free to choose all CNN parameters like kernel sizes, stride.<br>\n",
    "    \n",
    "</pre>\n",
    "    \n",
    "https://github.com/sahildigikar15/LSTM-on-Donors-Choose-Dataset/blob/master/LSTM_donors_choose.ipynb\n",
    "    \n",
    "# MODEL 1"
   ]
  },
  {
   "cell_type": "code",
   "execution_count": 1,
   "metadata": {},
   "outputs": [
    {
     "name": "stderr",
     "output_type": "stream",
     "text": [
      "Using TensorFlow backend.\n"
     ]
    }
   ],
   "source": [
    "import numpy as np\n",
    "import pandas as pd\n",
    "from keras.preprocessing.sequence import pad_sequences\n",
    "from keras.models import Sequential\n",
    "from keras.layers import Dense, Input , Dropout\n",
    "from keras.layers import Flatten\n",
    "from keras.layers import concatenate\n",
    "from keras.layers.embeddings import Embedding\n",
    "from keras.models import Model\n",
    "from keras.utils import to_categorical\n",
    "from sklearn.model_selection import train_test_split\n",
    "from keras.preprocessing.text import Tokenizer\n",
    "import matplotlib.pyplot as plt\n",
    "import pickle\n",
    "from keras.layers import LSTM\n",
    "from keras.preprocessing.text import text_to_word_sequence\n",
    "import tensorflow as tf\n",
    "from keras.callbacks import ModelCheckpoint,TensorBoard,ReduceLROnPlateau, EarlyStopping\n",
    "from keras.layers.normalization import BatchNormalization\n",
    "from sklearn.feature_extraction.text import TfidfVectorizer\n",
    "import seaborn as sns\n",
    "from keras.regularizers import l2\n",
    "from sklearn.metrics import roc_auc_score\n",
    "from keras.models import load_model\n",
    "from IPython.display import Image\n",
    "from scipy.sparse import hstack\n",
    "from keras.layers import Conv1D\n",
    "from sklearn.feature_extraction.text import CountVectorizer\n",
    "from prettytable import PrettyTable\n",
    "from keras.preprocessing import sequence\n",
    "from numpy import zeros\n",
    "from keras import regularizers\n",
    "from keras.layers import Conv1D\n",
    "from keras.initializers import he_normal\n",
    "from keras import optimizers"
   ]
  },
  {
   "cell_type": "code",
   "execution_count": 2,
   "metadata": {},
   "outputs": [
    {
     "data": {
      "text/html": [
       "<div>\n",
       "<style scoped>\n",
       "    .dataframe tbody tr th:only-of-type {\n",
       "        vertical-align: middle;\n",
       "    }\n",
       "\n",
       "    .dataframe tbody tr th {\n",
       "        vertical-align: top;\n",
       "    }\n",
       "\n",
       "    .dataframe thead th {\n",
       "        text-align: right;\n",
       "    }\n",
       "</style>\n",
       "<table border=\"1\" class=\"dataframe\">\n",
       "  <thead>\n",
       "    <tr style=\"text-align: right;\">\n",
       "      <th></th>\n",
       "      <th>school_state</th>\n",
       "      <th>teacher_prefix</th>\n",
       "      <th>project_grade_category</th>\n",
       "      <th>teacher_number_of_previously_posted_projects</th>\n",
       "      <th>project_is_approved</th>\n",
       "      <th>clean_categories</th>\n",
       "      <th>clean_subcategories</th>\n",
       "      <th>essay</th>\n",
       "      <th>price</th>\n",
       "    </tr>\n",
       "  </thead>\n",
       "  <tbody>\n",
       "    <tr>\n",
       "      <th>0</th>\n",
       "      <td>ca</td>\n",
       "      <td>mrs</td>\n",
       "      <td>grades_prek_2</td>\n",
       "      <td>53</td>\n",
       "      <td>1</td>\n",
       "      <td>math_science</td>\n",
       "      <td>appliedsciences health_lifescience</td>\n",
       "      <td>i fortunate enough use fairy tale stem kits cl...</td>\n",
       "      <td>725.05</td>\n",
       "    </tr>\n",
       "    <tr>\n",
       "      <th>1</th>\n",
       "      <td>ut</td>\n",
       "      <td>ms</td>\n",
       "      <td>grades_3_5</td>\n",
       "      <td>4</td>\n",
       "      <td>1</td>\n",
       "      <td>specialneeds</td>\n",
       "      <td>specialneeds</td>\n",
       "      <td>imagine 8 9 years old you third grade classroo...</td>\n",
       "      <td>213.03</td>\n",
       "    </tr>\n",
       "    <tr>\n",
       "      <th>2</th>\n",
       "      <td>ca</td>\n",
       "      <td>mrs</td>\n",
       "      <td>grades_prek_2</td>\n",
       "      <td>10</td>\n",
       "      <td>1</td>\n",
       "      <td>literacy_language</td>\n",
       "      <td>literacy</td>\n",
       "      <td>having class 24 students comes diverse learner...</td>\n",
       "      <td>329.00</td>\n",
       "    </tr>\n",
       "    <tr>\n",
       "      <th>3</th>\n",
       "      <td>ga</td>\n",
       "      <td>mrs</td>\n",
       "      <td>grades_prek_2</td>\n",
       "      <td>2</td>\n",
       "      <td>1</td>\n",
       "      <td>appliedlearning</td>\n",
       "      <td>earlydevelopment</td>\n",
       "      <td>i recently read article giving students choice...</td>\n",
       "      <td>481.04</td>\n",
       "    </tr>\n",
       "    <tr>\n",
       "      <th>4</th>\n",
       "      <td>wa</td>\n",
       "      <td>mrs</td>\n",
       "      <td>grades_3_5</td>\n",
       "      <td>2</td>\n",
       "      <td>1</td>\n",
       "      <td>literacy_language</td>\n",
       "      <td>literacy</td>\n",
       "      <td>my students crave challenge eat obstacles brea...</td>\n",
       "      <td>17.74</td>\n",
       "    </tr>\n",
       "  </tbody>\n",
       "</table>\n",
       "</div>"
      ],
      "text/plain": [
       "  school_state teacher_prefix project_grade_category  \\\n",
       "0           ca            mrs          grades_prek_2   \n",
       "1           ut             ms             grades_3_5   \n",
       "2           ca            mrs          grades_prek_2   \n",
       "3           ga            mrs          grades_prek_2   \n",
       "4           wa            mrs             grades_3_5   \n",
       "\n",
       "   teacher_number_of_previously_posted_projects  project_is_approved  \\\n",
       "0                                            53                    1   \n",
       "1                                             4                    1   \n",
       "2                                            10                    1   \n",
       "3                                             2                    1   \n",
       "4                                             2                    1   \n",
       "\n",
       "    clean_categories                 clean_subcategories  \\\n",
       "0       math_science  appliedsciences health_lifescience   \n",
       "1       specialneeds                        specialneeds   \n",
       "2  literacy_language                            literacy   \n",
       "3    appliedlearning                    earlydevelopment   \n",
       "4  literacy_language                            literacy   \n",
       "\n",
       "                                               essay   price  \n",
       "0  i fortunate enough use fairy tale stem kits cl...  725.05  \n",
       "1  imagine 8 9 years old you third grade classroo...  213.03  \n",
       "2  having class 24 students comes diverse learner...  329.00  \n",
       "3  i recently read article giving students choice...  481.04  \n",
       "4  my students crave challenge eat obstacles brea...   17.74  "
      ]
     },
     "execution_count": 2,
     "metadata": {},
     "output_type": "execute_result"
    }
   ],
   "source": [
    "data = pd.read_csv(\"E:/BOOKS NEW/Cases datasets/LSTM DonorsChoose/preprocessed_data.csv\")\n",
    "data.head()"
   ]
  },
  {
   "cell_type": "code",
   "execution_count": 3,
   "metadata": {},
   "outputs": [
    {
     "name": "stdout",
     "output_type": "stream",
     "text": [
      "Index(['||school_state||', '||teacher_prefix||', '||project_grade_category||',\n",
      "       '||teacher_number_of_previously_posted_projects||',\n",
      "       '||project_is_approved||', '||clean_categories||',\n",
      "       '||clean_subcategories||', '||essay||', '||price||'],\n",
      "      dtype='object')\n",
      "(109248, 9)\n"
     ]
    }
   ],
   "source": [
    "print(\"||\"+data.columns+\"||\")\n",
    "print(data.shape)"
   ]
  },
  {
   "cell_type": "code",
   "execution_count": 4,
   "metadata": {},
   "outputs": [],
   "source": [
    "Y=data[\"project_is_approved\"].values"
   ]
  },
  {
   "cell_type": "code",
   "execution_count": 5,
   "metadata": {},
   "outputs": [],
   "source": [
    "data.drop(\"project_is_approved\",axis = 1, inplace = True)"
   ]
  },
  {
   "cell_type": "code",
   "execution_count": 6,
   "metadata": {},
   "outputs": [],
   "source": [
    "X=data"
   ]
  },
  {
   "cell_type": "markdown",
   "metadata": {},
   "source": [
    "## Splitting the data"
   ]
  },
  {
   "cell_type": "code",
   "execution_count": 7,
   "metadata": {},
   "outputs": [
    {
     "name": "stdout",
     "output_type": "stream",
     "text": [
      "(81936, 8) (81936,)\n",
      "(27312, 8) (27312,)\n"
     ]
    }
   ],
   "source": [
    "from sklearn.model_selection import train_test_split\n",
    "X_train, X_test, Y_train, Y_test = train_test_split(X, Y, test_size=0.25, stratify=Y)\n",
    "print(X_train.shape,Y_train.shape)\n",
    "print(X_test.shape,Y_test.shape)"
   ]
  },
  {
   "cell_type": "markdown",
   "metadata": {},
   "source": [
    "## Tokenizing the text:"
   ]
  },
  {
   "cell_type": "code",
   "execution_count": 8,
   "metadata": {},
   "outputs": [],
   "source": [
    "from keras.preprocessing.text import Tokenizer\n",
    "tokenizer = Tokenizer(num_words= 100000 )\n",
    "tokenizer.fit_on_texts(X_train[\"essay\"])"
   ]
  },
  {
   "cell_type": "code",
   "execution_count": 9,
   "metadata": {},
   "outputs": [
    {
     "name": "stderr",
     "output_type": "stream",
     "text": [
      "C:\\Users\\sesha\\anaconda3\\lib\\site-packages\\ipykernel_launcher.py:1: SettingWithCopyWarning: \n",
      "A value is trying to be set on a copy of a slice from a DataFrame.\n",
      "Try using .loc[row_indexer,col_indexer] = value instead\n",
      "\n",
      "See the caveats in the documentation: https://pandas.pydata.org/pandas-docs/stable/user_guide/indexing.html#returning-a-view-versus-a-copy\n",
      "  \"\"\"Entry point for launching an IPython kernel.\n",
      "C:\\Users\\sesha\\anaconda3\\lib\\site-packages\\ipykernel_launcher.py:3: SettingWithCopyWarning: \n",
      "A value is trying to be set on a copy of a slice from a DataFrame.\n",
      "Try using .loc[row_indexer,col_indexer] = value instead\n",
      "\n",
      "See the caveats in the documentation: https://pandas.pydata.org/pandas-docs/stable/user_guide/indexing.html#returning-a-view-versus-a-copy\n",
      "  This is separate from the ipykernel package so we can avoid doing imports until\n"
     ]
    }
   ],
   "source": [
    "X_train['essay_tok']  = tokenizer.texts_to_sequences(X_train['essay'].values)\n",
    "\n",
    "X_test['essay_tok']   = tokenizer.texts_to_sequences(X_test['essay'].values)"
   ]
  },
  {
   "cell_type": "code",
   "execution_count": 10,
   "metadata": {},
   "outputs": [
    {
     "data": {
      "text/html": [
       "<div>\n",
       "<style scoped>\n",
       "    .dataframe tbody tr th:only-of-type {\n",
       "        vertical-align: middle;\n",
       "    }\n",
       "\n",
       "    .dataframe tbody tr th {\n",
       "        vertical-align: top;\n",
       "    }\n",
       "\n",
       "    .dataframe thead th {\n",
       "        text-align: right;\n",
       "    }\n",
       "</style>\n",
       "<table border=\"1\" class=\"dataframe\">\n",
       "  <thead>\n",
       "    <tr style=\"text-align: right;\">\n",
       "      <th></th>\n",
       "      <th>school_state</th>\n",
       "      <th>teacher_prefix</th>\n",
       "      <th>project_grade_category</th>\n",
       "      <th>teacher_number_of_previously_posted_projects</th>\n",
       "      <th>clean_categories</th>\n",
       "      <th>clean_subcategories</th>\n",
       "      <th>essay</th>\n",
       "      <th>price</th>\n",
       "      <th>essay_tok</th>\n",
       "    </tr>\n",
       "  </thead>\n",
       "  <tbody>\n",
       "    <tr>\n",
       "      <th>85553</th>\n",
       "      <td>ca</td>\n",
       "      <td>ms</td>\n",
       "      <td>grades_9_12</td>\n",
       "      <td>1</td>\n",
       "      <td>appliedlearning history_civics</td>\n",
       "      <td>communityservice socialsciences</td>\n",
       "      <td>students animo watts special shine even though...</td>\n",
       "      <td>399.99</td>\n",
       "      <td>[1, 22895, 11404, 104, 1923, 115, 546, 163, 32...</td>\n",
       "    </tr>\n",
       "    <tr>\n",
       "      <th>23222</th>\n",
       "      <td>or</td>\n",
       "      <td>mrs</td>\n",
       "      <td>grades_prek_2</td>\n",
       "      <td>0</td>\n",
       "      <td>literacy_language</td>\n",
       "      <td>literature_writing</td>\n",
       "      <td>my students creative eager learn they active l...</td>\n",
       "      <td>383.08</td>\n",
       "      <td>[4, 1, 143, 95, 10, 9, 148, 53, 113, 110, 6, 2...</td>\n",
       "    </tr>\n",
       "    <tr>\n",
       "      <th>86965</th>\n",
       "      <td>sc</td>\n",
       "      <td>mrs</td>\n",
       "      <td>grades_3_5</td>\n",
       "      <td>10</td>\n",
       "      <td>math_science</td>\n",
       "      <td>appliedsciences mathematics</td>\n",
       "      <td>more 100 students come media center everyday l...</td>\n",
       "      <td>388.50</td>\n",
       "      <td>[1220, 425, 1, 22, 767, 222, 210, 10, 160, 330...</td>\n",
       "    </tr>\n",
       "    <tr>\n",
       "      <th>73996</th>\n",
       "      <td>ny</td>\n",
       "      <td>ms</td>\n",
       "      <td>grades_prek_2</td>\n",
       "      <td>3</td>\n",
       "      <td>literacy_language</td>\n",
       "      <td>literacy</td>\n",
       "      <td>my school urban diverse high poverty school di...</td>\n",
       "      <td>132.35</td>\n",
       "      <td>[4, 3, 480, 105, 50, 131, 3, 171, 1777, 12, 12...</td>\n",
       "    </tr>\n",
       "    <tr>\n",
       "      <th>11968</th>\n",
       "      <td>ny</td>\n",
       "      <td>ms</td>\n",
       "      <td>grades_3_5</td>\n",
       "      <td>15</td>\n",
       "      <td>health_sports specialneeds</td>\n",
       "      <td>health_wellness specialneeds</td>\n",
       "      <td>as special education teacher 12 1 self contain...</td>\n",
       "      <td>649.00</td>\n",
       "      <td>[106, 104, 61, 76, 896, 184, 326, 1580, 6, 361...</td>\n",
       "    </tr>\n",
       "  </tbody>\n",
       "</table>\n",
       "</div>"
      ],
      "text/plain": [
       "      school_state teacher_prefix project_grade_category  \\\n",
       "85553           ca             ms            grades_9_12   \n",
       "23222           or            mrs          grades_prek_2   \n",
       "86965           sc            mrs             grades_3_5   \n",
       "73996           ny             ms          grades_prek_2   \n",
       "11968           ny             ms             grades_3_5   \n",
       "\n",
       "       teacher_number_of_previously_posted_projects  \\\n",
       "85553                                             1   \n",
       "23222                                             0   \n",
       "86965                                            10   \n",
       "73996                                             3   \n",
       "11968                                            15   \n",
       "\n",
       "                     clean_categories              clean_subcategories  \\\n",
       "85553  appliedlearning history_civics  communityservice socialsciences   \n",
       "23222               literacy_language               literature_writing   \n",
       "86965                    math_science      appliedsciences mathematics   \n",
       "73996               literacy_language                         literacy   \n",
       "11968      health_sports specialneeds     health_wellness specialneeds   \n",
       "\n",
       "                                                   essay   price  \\\n",
       "85553  students animo watts special shine even though...  399.99   \n",
       "23222  my students creative eager learn they active l...  383.08   \n",
       "86965  more 100 students come media center everyday l...  388.50   \n",
       "73996  my school urban diverse high poverty school di...  132.35   \n",
       "11968  as special education teacher 12 1 self contain...  649.00   \n",
       "\n",
       "                                               essay_tok  \n",
       "85553  [1, 22895, 11404, 104, 1923, 115, 546, 163, 32...  \n",
       "23222  [4, 1, 143, 95, 10, 9, 148, 53, 113, 110, 6, 2...  \n",
       "86965  [1220, 425, 1, 22, 767, 222, 210, 10, 160, 330...  \n",
       "73996  [4, 3, 480, 105, 50, 131, 3, 171, 1777, 12, 12...  \n",
       "11968  [106, 104, 61, 76, 896, 184, 326, 1580, 6, 361...  "
      ]
     },
     "execution_count": 10,
     "metadata": {},
     "output_type": "execute_result"
    }
   ],
   "source": [
    "X_train.head()"
   ]
  },
  {
   "cell_type": "markdown",
   "metadata": {},
   "source": [
    "## POST Padding"
   ]
  },
  {
   "cell_type": "code",
   "execution_count": 11,
   "metadata": {},
   "outputs": [],
   "source": [
    "from keras.preprocessing import sequence\n",
    "max_review_length = 300\n",
    "X_train_pad = sequence.pad_sequences(X_train['essay_tok'].values, maxlen=max_review_length , padding='post' )\n",
    "\n",
    "X_test_pad  = sequence.pad_sequences(X_test['essay_tok'].values, maxlen=max_review_length , padding='post')"
   ]
  },
  {
   "cell_type": "code",
   "execution_count": 12,
   "metadata": {},
   "outputs": [
    {
     "name": "stdout",
     "output_type": "stream",
     "text": [
      "[  563   524   797   544   537   112     2   214     2   544   537     2\n",
      "   299     1    22    91   404   140   523   320     1    23     2     1\n",
      "  1013  1566   195    22   474   515  2408     2     1     3    86   106\n",
      "  1053     2   476   435   525    11   870    32  4216  7142   267   534\n",
      "     7  5012    23   279  1341    23    12  1486     9  7100  1453   141\n",
      "    10   688  1341    23     2     1     5   292    38   292   599   189\n",
      "   199    85   115   546     5   292     1   209    22     3  7264   247\n",
      "    41   123   499  1163     1   382   112     2   332   284  1197     8\n",
      "   294    42   320     1     8     3    86   360  1230   602    78  7401\n",
      "     6     2   459     1   226    85   659    11    10   253    33  3267\n",
      "   291 41155    35     2   658  1459  3499     1    15  1539   720   214\n",
      "     2     3     2   462    41  2107    58   688     2    84     2   196\n",
      "    76     2    49     1  2107    58    29    15    41   659     2   103\n",
      "     1    24   249   107   459  1539  1895    71  2848  9183     2   241\n",
      "   659    11     1   181    41   319   916   517     2    28   299    11\n",
      "     1  1505    56     4   960   145    49    51     5   621     1    13\n",
      "     0     0     0     0     0     0     0     0     0     0     0     0\n",
      "     0     0     0     0     0     0     0     0     0     0     0     0\n",
      "     0     0     0     0     0     0     0     0     0     0     0     0\n",
      "     0     0     0     0     0     0     0     0     0     0     0     0\n",
      "     0     0     0     0     0     0     0     0     0     0     0     0\n",
      "     0     0     0     0     0     0     0     0     0     0     0     0\n",
      "     0     0     0     0     0     0     0     0     0     0     0     0\n",
      "     0     0     0     0     0     0     0     0     0     0     0     0\n",
      "     0     0     0     0     0     0     0     0     0     0     0     0]\n"
     ]
    }
   ],
   "source": [
    "print(X_test_pad[0])"
   ]
  },
  {
   "cell_type": "markdown",
   "metadata": {},
   "source": [
    "## Here we use the GLOVE Model to fing the word vectors."
   ]
  },
  {
   "cell_type": "code",
   "execution_count": 13,
   "metadata": {},
   "outputs": [],
   "source": [
    "import pickle\n",
    "with open('E:/BOOKS NEW/Cases datasets/LSTM DonorsChoose/glove_vectors', 'rb') as f:\n",
    "    glove = pickle.load(f)\n",
    "    glove_words =  set(glove.keys())"
   ]
  },
  {
   "cell_type": "code",
   "execution_count": 14,
   "metadata": {},
   "outputs": [],
   "source": [
    "from numpy import zeros\n",
    "max_vocabulary = len(tokenizer.word_index)\n",
    "# create a weight matrix for words in training docs\n",
    "embedding_matrix = zeros((max_vocabulary+1, 300))\n",
    "for word, i in tokenizer.word_index.items():\n",
    "  \n",
    "  \n",
    "  if word in glove_words:\n",
    "    \n",
    "    \n",
    "    embedding_vector = glove[word]\n",
    "    embedding_matrix[i] = embedding_vector"
   ]
  },
  {
   "cell_type": "code",
   "execution_count": 15,
   "metadata": {},
   "outputs": [
    {
     "name": "stdout",
     "output_type": "stream",
     "text": [
      "(300,)\n",
      "[ 1.5243e-01 -1.6945e-01 -2.2748e-02 -2.5051e-01 -1.5213e-01 -2.0300e-01\n",
      " -3.3534e+00 -2.6162e-01  1.2675e-01  9.0183e-01  1.3074e-02  3.7517e-01\n",
      " -7.6090e-02 -6.2058e-01 -4.0122e-01 -6.7986e-02  3.6276e-01 -1.9572e-01\n",
      "  3.7641e-01 -4.7978e-02  6.5122e-03  2.6432e-01 -5.2387e-02 -5.1525e-02\n",
      " -3.0775e-01  6.3784e-02  5.6517e-01 -2.2021e-01 -5.2199e-01 -3.5600e-01\n",
      " -4.4535e-01 -6.5147e-01 -1.9593e-01  3.2336e-01 -2.9516e-01  2.3886e-01\n",
      " -1.8961e-01  1.0907e-01 -2.4158e-01  4.1535e-02  7.9857e-02  4.4682e-02\n",
      "  2.6472e-01 -6.6871e-01  1.0028e-01 -4.5726e-01  5.1603e-01  3.8309e-02\n",
      "  2.3472e-01 -2.4350e-01 -2.8054e-01  2.9672e-01  3.9380e-01  2.5832e-01\n",
      "  1.9966e-01 -3.8862e-01  2.4473e-01  3.6665e-01 -4.4643e-01  5.4612e-02\n",
      " -4.3967e-01  2.8433e-01  5.1575e-01 -2.0117e-01 -3.3626e-01  7.1260e-01\n",
      "  3.3023e-02 -3.6070e-01  7.8828e-01 -5.4928e-01 -7.0503e-01 -2.6041e-01\n",
      " -1.7760e-01 -6.2402e-01  7.3210e-02 -7.2140e-01 -2.4133e-01 -3.0226e-02\n",
      " -5.0257e-02  3.3103e-01  2.3232e-01 -4.7033e-01  3.8886e-01 -4.0306e-01\n",
      " -2.9306e-01  1.6082e-01  5.9278e-01 -4.3758e-01  1.0430e+00  4.7843e-01\n",
      "  3.1376e-01 -9.7232e-02 -4.7624e-01 -2.6231e-01 -1.2472e-01  1.4626e-01\n",
      " -3.0539e+00  2.7329e-01  5.1819e-01  6.5193e-01 -6.2277e-01 -3.2342e-01\n",
      "  4.6050e-01 -4.9187e-01  1.9491e-01  2.0300e-01  6.8973e-01 -5.1836e-01\n",
      "  5.4692e-02  2.6443e-01 -4.6905e-01  1.7857e-01  3.3002e-01  7.6405e-01\n",
      "  5.0110e-01  1.7678e-01 -1.2562e+00  1.6654e-01  5.2280e-01 -1.9164e-02\n",
      " -2.0966e-01  4.6096e-02 -6.1923e-04 -2.1292e-01  2.0175e-01 -1.2897e-02\n",
      "  6.0529e-01 -4.4746e-02  1.8558e-02  1.0948e+00  9.3996e-01 -2.2076e-01\n",
      "  2.1465e-01  3.2904e-02  1.0028e-01 -3.8381e-01  5.4592e-01  6.2795e-02\n",
      "  2.6534e-01  3.7005e-01 -9.9533e-02 -3.0415e-01 -1.2319e-01 -7.3927e-02\n",
      " -2.1446e-01 -1.2887e-01  4.0041e-01 -2.4905e-01 -1.8930e-01 -3.3936e-01\n",
      "  5.6388e-02 -7.7492e-02  5.7682e-01 -1.6637e-01 -2.9399e-01  1.7524e-01\n",
      "  5.9433e-01 -2.5548e-01 -2.0096e-01  2.7077e-02 -3.9692e-01 -2.1046e-02\n",
      " -2.6920e-01 -6.4063e-01 -4.1650e-01  1.4620e-02 -9.9762e-02  3.9734e-01\n",
      "  4.5282e-02  3.4553e-01 -8.5477e-02 -1.9403e-02 -4.0236e-01 -3.8962e-01\n",
      " -9.1023e-02 -2.1431e-02 -2.6191e-02  1.1751e-01 -4.1328e-01  3.5515e-02\n",
      "  7.5164e-02  1.1228e+00  3.3584e-01  1.2485e-01 -3.4496e-01 -1.9958e-02\n",
      " -2.0669e-01 -5.3119e-01 -2.7743e-02 -6.8806e-02 -1.1321e-01 -2.8332e-02\n",
      " -5.4524e-01  2.8887e-02 -7.9270e-02 -4.5202e-01 -3.8577e-01  2.6746e-01\n",
      "  2.0565e-01  4.0441e-02  2.4957e-01  1.4708e-01  1.4228e-01  2.3737e-01\n",
      " -5.0964e-01 -1.4892e-02  3.5762e-01 -1.4090e-01  5.6286e-01  1.7347e-02\n",
      " -1.1425e-02  1.1381e-01  5.3750e-02 -6.8724e-01 -2.8357e-01  4.8783e-02\n",
      " -3.8335e-01 -4.5458e-01 -2.7152e-02  2.8938e-01 -5.7306e-01 -2.3033e-01\n",
      " -5.7904e-01 -5.0492e-02 -2.0284e+00 -1.4418e-02 -3.6295e-01 -1.3242e-01\n",
      " -2.7659e-01 -3.7399e-01 -1.0796e-01  2.8634e-01 -1.8938e-02 -2.8452e-01\n",
      " -8.1156e-02 -3.4697e-01  1.8248e-01 -2.7992e-01  1.5089e-01  6.2534e-01\n",
      " -6.5873e-01  1.3013e-01 -2.6317e-02  8.5661e-02 -1.5141e-01  2.2956e-01\n",
      "  2.2711e-02 -5.5303e-01 -3.6312e-01 -4.5843e-01 -1.4317e-01  8.1640e-02\n",
      "  3.4238e-01 -4.0742e-01  1.3583e-01  3.7978e-01  1.6655e-01 -2.4479e-01\n",
      "  8.1674e-01 -5.2003e-01 -2.4184e-01  3.9024e-01 -9.2827e-02  4.5020e-01\n",
      "  1.6203e-01 -5.2172e-02 -3.0403e-01 -1.8206e-01  2.9206e-01  2.4290e-01\n",
      "  1.1419e-01 -2.0715e-02 -3.4237e-01  5.6683e-01 -1.6686e-02  1.9142e-01\n",
      "  2.3149e-01 -2.8463e-01 -6.3282e-02  5.9963e-01 -6.3530e-01  1.6831e-01\n",
      "  5.7076e-02  8.5078e-02 -4.2394e-02  6.5239e-01 -2.2988e-01 -8.2786e-02\n",
      "  2.3448e-01  3.3696e-01  1.6948e-01  9.1196e-02 -9.3316e-02 -2.7831e-01\n",
      "  2.5325e-01  2.7602e-01 -2.7795e-01  6.1801e-01  4.1281e-01  1.0077e-03]\n"
     ]
    }
   ],
   "source": [
    "print(embedding_matrix[1].shape)\n",
    "print(embedding_matrix[1])"
   ]
  },
  {
   "cell_type": "markdown",
   "metadata": {},
   "source": [
    "## Encoding the categorical features:\n",
    "\n",
    "### 1) school_state"
   ]
  },
  {
   "cell_type": "code",
   "execution_count": 16,
   "metadata": {},
   "outputs": [],
   "source": [
    "from sklearn.preprocessing import LabelEncoder\n",
    "labele = LabelEncoder()\n",
    "labele.fit(X['school_state'].values)\n",
    "\n",
    "\n",
    "X_train_school_state = labele.transform(X_train['school_state'].values)\n",
    "\n",
    "X_test_school_state = labele.transform(X_test['school_state'].values)"
   ]
  },
  {
   "cell_type": "code",
   "execution_count": 17,
   "metadata": {},
   "outputs": [
    {
     "name": "stdout",
     "output_type": "stream",
     "text": [
      "Number of unique school state=  51\n",
      "Embedding size =  26\n"
     ]
    }
   ],
   "source": [
    "no_of_unique_states = X_train['school_state'].nunique()\n",
    "print(\"Number of unique school state= \",no_of_unique_states)\n",
    "\n",
    "\n",
    "\n",
    "embedding_size_school_state = min(np.ceil((no_of_unique_states)/2), 50 )\n",
    "embedding_size_school_state = int(embedding_size_school_state)\n",
    "print('Embedding size = ',embedding_size_school_state)"
   ]
  },
  {
   "cell_type": "markdown",
   "metadata": {},
   "source": [
    "### 2) teacher_prefix"
   ]
  },
  {
   "cell_type": "code",
   "execution_count": 18,
   "metadata": {},
   "outputs": [
    {
     "name": "stdout",
     "output_type": "stream",
     "text": [
      "Number of unique teacher_prefix=  5\n",
      "Embedding size =  3\n"
     ]
    }
   ],
   "source": [
    "labele = LabelEncoder()\n",
    "labele.fit(X['teacher_prefix'].values)\n",
    "\n",
    "\n",
    "X_train_teacher_prefix = labele.transform(X_train['teacher_prefix'].values)\n",
    "\n",
    "X_test_teacher_prefix = labele.transform(X_test['teacher_prefix'].values)\n",
    "\n",
    "no_of_unique_teacher_prefix = X_train['teacher_prefix'].nunique()\n",
    "print(\"Number of unique teacher_prefix= \",no_of_unique_teacher_prefix)\n",
    "\n",
    "\n",
    "\n",
    "embedding_size_teacher_prefix = min(np.ceil((no_of_unique_teacher_prefix)/2), 50 )\n",
    "embedding_size_teacher_prefix = int(embedding_size_teacher_prefix)\n",
    "print('Embedding size = ',embedding_size_teacher_prefix)"
   ]
  },
  {
   "cell_type": "markdown",
   "metadata": {},
   "source": [
    "### 3) clean_categories"
   ]
  },
  {
   "cell_type": "code",
   "execution_count": 19,
   "metadata": {},
   "outputs": [
    {
     "name": "stdout",
     "output_type": "stream",
     "text": [
      "Number of unique clean_categories=  50\n",
      "Embedding size =  25\n"
     ]
    }
   ],
   "source": [
    "labele = LabelEncoder()\n",
    "labele.fit(X['clean_categories'].values)\n",
    "\n",
    "\n",
    "X_train_clean_categories = labele.transform(X_train['clean_categories'].values)\n",
    "\n",
    "X_test_clean_categories = labele.transform(X_test['clean_categories'].values)\n",
    "\n",
    "no_of_unique_clean_categories = X_train['clean_categories'].nunique()\n",
    "print(\"Number of unique clean_categories= \",no_of_unique_clean_categories)\n",
    "\n",
    "\n",
    "\n",
    "embedding_size_clean_categories = min(np.ceil((no_of_unique_clean_categories)/2), 50 )\n",
    "embedding_size_clean_categories = int(embedding_size_clean_categories)\n",
    "print('Embedding size = ',embedding_size_clean_categories)"
   ]
  },
  {
   "cell_type": "markdown",
   "metadata": {},
   "source": [
    "### 4) clean_subcategories"
   ]
  },
  {
   "cell_type": "code",
   "execution_count": 20,
   "metadata": {},
   "outputs": [
    {
     "name": "stdout",
     "output_type": "stream",
     "text": [
      "Number of unique clean_subcategories=  393\n",
      "Embedding size =  50\n"
     ]
    }
   ],
   "source": [
    "labele = LabelEncoder()\n",
    "labele.fit(X['clean_subcategories'].values)\n",
    "\n",
    "\n",
    "X_train_clean_subcategories = labele.transform(X_train['clean_subcategories'].values)\n",
    "\n",
    "X_test_clean_subcategories = labele.transform(X_test['clean_subcategories'].values)\n",
    "\n",
    "no_of_unique_clean_subcategories = X_train['clean_subcategories'].nunique()\n",
    "print(\"Number of unique clean_subcategories= \",no_of_unique_clean_subcategories)\n",
    "\n",
    "\n",
    "\n",
    "embedding_size_clean_subcategories = min(np.ceil((no_of_unique_clean_subcategories)/2), 50 )\n",
    "embedding_size_clean_subcategories = int(embedding_size_clean_subcategories)\n",
    "print('Embedding size = ',embedding_size_clean_subcategories)"
   ]
  },
  {
   "cell_type": "markdown",
   "metadata": {},
   "source": [
    "### 5) project_grade_category"
   ]
  },
  {
   "cell_type": "code",
   "execution_count": 21,
   "metadata": {},
   "outputs": [
    {
     "name": "stdout",
     "output_type": "stream",
     "text": [
      "Number of unique project_grade_category=  4\n",
      "Embedding size =  2\n"
     ]
    }
   ],
   "source": [
    "labele = LabelEncoder()\n",
    "labele.fit(X['project_grade_category'].values)\n",
    "\n",
    "\n",
    "X_train_project_grade_category = labele.transform(X_train['project_grade_category'].values)\n",
    "\n",
    "X_test_project_grade_category = labele.transform(X_test['project_grade_category'].values)\n",
    "\n",
    "no_of_unique_project_grade_category = X_train['project_grade_category'].nunique()\n",
    "print(\"Number of unique project_grade_category= \",no_of_unique_project_grade_category)\n",
    "\n",
    "\n",
    "\n",
    "embedding_size_project_grade_category = min(np.ceil((no_of_unique_project_grade_category)/2), 50 )\n",
    "embedding_size_project_grade_category = int(embedding_size_project_grade_category)\n",
    "print('Embedding size = ',embedding_size_project_grade_category)"
   ]
  },
  {
   "cell_type": "markdown",
   "metadata": {},
   "source": [
    "## Standardizing Numerical Features\n",
    "\n",
    "### 1) teacher_number_of_previously_posted_projects"
   ]
  },
  {
   "cell_type": "code",
   "execution_count": 22,
   "metadata": {},
   "outputs": [],
   "source": [
    "from sklearn.preprocessing import StandardScaler\n",
    "Sscaler=StandardScaler()\n",
    "Sscaler.fit(X_train['teacher_number_of_previously_posted_projects'].values.reshape(-1,1))\n",
    "\n",
    "\n",
    "X_train_num_projects=Sscaler.transform(X_train['teacher_number_of_previously_posted_projects'].values.reshape(-1,1))\n",
    "\n",
    "X_test_num_projects=Sscaler.transform(X_test['teacher_number_of_previously_posted_projects'].values.reshape(-1,1))"
   ]
  },
  {
   "cell_type": "markdown",
   "metadata": {},
   "source": [
    "### 2) price"
   ]
  },
  {
   "cell_type": "code",
   "execution_count": 23,
   "metadata": {},
   "outputs": [],
   "source": [
    "Sscaler.fit(X_train['price'].values.reshape(-1,1))\n",
    "\n",
    "X_train_price = Sscaler.transform(X_train['price'].values.reshape(-1,1))\n",
    "\n",
    "X_test_price = Sscaler.transform(X_test['price'].values.reshape(-1,1))"
   ]
  },
  {
   "cell_type": "markdown",
   "metadata": {},
   "source": [
    "## CONCATENATION OF ALL THE 7 INPUT LAYERS"
   ]
  },
  {
   "cell_type": "code",
   "execution_count": 24,
   "metadata": {},
   "outputs": [
    {
     "name": "stdout",
     "output_type": "stream",
     "text": [
      "(81936, 2) (27312, 2)\n"
     ]
    }
   ],
   "source": [
    "X_train_numeric_features = np.concatenate((X_train_num_projects , X_train_price) , axis = 1)\n",
    "\n",
    "X_test_numeric_features= np.concatenate((X_test_num_projects , X_test_price) , axis = 1)\n",
    "\n",
    "print(X_train_numeric_features.shape ,X_test_numeric_features.shape)"
   ]
  },
  {
   "cell_type": "code",
   "execution_count": 25,
   "metadata": {},
   "outputs": [],
   "source": [
    "def auc1(y_true, y_pred):\n",
    "    if len(np.unique(y_true[:,1])) == 1:\n",
    "        return 0.5\n",
    "    else:\n",
    "        return roc_auc_score(y_true, y_pred)\n",
    "\n",
    "def auroc(y_true, y_pred):\n",
    "    return tf.py_func(auc1, (y_true, y_pred), tf.double)"
   ]
  },
  {
   "cell_type": "markdown",
   "metadata": {},
   "source": [
    "# MODEL 1 : LSTM"
   ]
  },
  {
   "cell_type": "code",
   "execution_count": 26,
   "metadata": {},
   "outputs": [
    {
     "name": "stdout",
     "output_type": "stream",
     "text": [
      "WARNING:tensorflow:From C:\\Users\\sesha\\anaconda3\\lib\\site-packages\\tensorflow_core\\python\\ops\\resource_variable_ops.py:1630: calling BaseResourceVariable.__init__ (from tensorflow.python.ops.resource_variable_ops) with constraint is deprecated and will be removed in a future version.\n",
      "Instructions for updating:\n",
      "If using Keras pass *_constraint arguments to layers.\n",
      "Model: \"model_1\"\n",
      "__________________________________________________________________________________________________\n",
      "Layer (type)                    Output Shape         Param #     Connected to                     \n",
      "==================================================================================================\n",
      "essay_input (InputLayer)        (None, 300)          0                                            \n",
      "__________________________________________________________________________________________________\n",
      "embedding_1 (Embedding)         (None, 300, 300)     15136200    essay_input[0][0]                \n",
      "__________________________________________________________________________________________________\n",
      "school_state (InputLayer)       (None, 1)            0                                            \n",
      "__________________________________________________________________________________________________\n",
      "teacher_prefix (InputLayer)     (None, 1)            0                                            \n",
      "__________________________________________________________________________________________________\n",
      "clean_categories (InputLayer)   (None, 1)            0                                            \n",
      "__________________________________________________________________________________________________\n",
      "clean_subcategories (InputLayer (None, 1)            0                                            \n",
      "__________________________________________________________________________________________________\n",
      "project_grade_category (InputLa (None, 1)            0                                            \n",
      "__________________________________________________________________________________________________\n",
      "lstm_1 (LSTM)                   (None, 300, 250)     551000      embedding_1[0][0]                \n",
      "__________________________________________________________________________________________________\n",
      "embedding_2 (Embedding)         (None, 1, 26)        1326        school_state[0][0]               \n",
      "__________________________________________________________________________________________________\n",
      "embedding_3 (Embedding)         (None, 1, 3)         15          teacher_prefix[0][0]             \n",
      "__________________________________________________________________________________________________\n",
      "embedding_4 (Embedding)         (None, 1, 25)        1250        clean_categories[0][0]           \n",
      "__________________________________________________________________________________________________\n",
      "embedding_5 (Embedding)         (None, 1, 50)        19650       clean_subcategories[0][0]        \n",
      "__________________________________________________________________________________________________\n",
      "embedding_6 (Embedding)         (None, 1, 2)         8           project_grade_category[0][0]     \n",
      "__________________________________________________________________________________________________\n",
      "numerical_features (InputLayer) (None, 2)            0                                            \n",
      "__________________________________________________________________________________________________\n",
      "flatten_1 (Flatten)             (None, 75000)        0           lstm_1[0][0]                     \n",
      "__________________________________________________________________________________________________\n",
      "flatten_2 (Flatten)             (None, 26)           0           embedding_2[0][0]                \n",
      "__________________________________________________________________________________________________\n",
      "flatten_3 (Flatten)             (None, 3)            0           embedding_3[0][0]                \n",
      "__________________________________________________________________________________________________\n",
      "flatten_4 (Flatten)             (None, 25)           0           embedding_4[0][0]                \n",
      "__________________________________________________________________________________________________\n",
      "flatten_5 (Flatten)             (None, 50)           0           embedding_5[0][0]                \n",
      "__________________________________________________________________________________________________\n",
      "flatten_6 (Flatten)             (None, 2)            0           embedding_6[0][0]                \n",
      "__________________________________________________________________________________________________\n",
      "dense_1 (Dense)                 (None, 150)          450         numerical_features[0][0]         \n",
      "__________________________________________________________________________________________________\n",
      "concatenate_1 (Concatenate)     (None, 75256)        0           flatten_1[0][0]                  \n",
      "                                                                 flatten_2[0][0]                  \n",
      "                                                                 flatten_3[0][0]                  \n",
      "                                                                 flatten_4[0][0]                  \n",
      "                                                                 flatten_5[0][0]                  \n",
      "                                                                 flatten_6[0][0]                  \n",
      "                                                                 dense_1[0][0]                    \n",
      "__________________________________________________________________________________________________\n",
      "dense_2 (Dense)                 (None, 500)          37628500    concatenate_1[0][0]              \n",
      "__________________________________________________________________________________________________\n",
      "dropout_1 (Dropout)             (None, 500)          0           dense_2[0][0]                    \n",
      "__________________________________________________________________________________________________\n",
      "dense_3 (Dense)                 (None, 250)          125250      dropout_1[0][0]                  \n",
      "__________________________________________________________________________________________________\n",
      "batch_normalization_1 (BatchNor (None, 250)          1000        dense_3[0][0]                    \n",
      "__________________________________________________________________________________________________\n",
      "dropout_2 (Dropout)             (None, 250)          0           batch_normalization_1[0][0]      \n",
      "__________________________________________________________________________________________________\n",
      "dense_4 (Dense)                 (None, 100)          25100       dropout_2[0][0]                  \n",
      "__________________________________________________________________________________________________\n",
      "dropout_3 (Dropout)             (None, 100)          0           dense_4[0][0]                    \n",
      "__________________________________________________________________________________________________\n",
      "dense_5 (Dense)                 (None, 50)           5050        dropout_3[0][0]                  \n",
      "__________________________________________________________________________________________________\n",
      "output (Dense)                  (None, 2)            102         dense_5[0][0]                    \n",
      "==================================================================================================\n",
      "Total params: 53,494,901\n",
      "Trainable params: 53,494,401\n",
      "Non-trainable params: 500\n",
      "__________________________________________________________________________________________________\n",
      "None\n"
     ]
    }
   ],
   "source": [
    "from keras import regularizers\n",
    "\n",
    "# the input shape will be the shape pof the embedding matrix obtained from the glove vectors\n",
    "\n",
    "# essay_input\n",
    "essay = Input(shape=(300,), name='essay_input')\n",
    "\n",
    "X = Embedding(output_dim=300, input_dim=max_vocabulary+1, input_length=300 , weights=[embedding_matrix])(essay)\n",
    "lstm_essay = LSTM(250,recurrent_dropout=0.5,kernel_regularizer=regularizers.l2(0.001),return_sequences=True)(X)\n",
    "flatten_1 = Flatten()(lstm_essay)\n",
    "\n",
    "\n",
    "# school_state\n",
    "school_state = Input(shape=(1,), name='school_state')\n",
    "X_school_state = Embedding(output_dim=embedding_size_school_state , input_dim=no_of_unique_states, input_length=1)(school_state)\n",
    "flatten_2 = Flatten()(X_school_state)\n",
    "\n",
    "\n",
    "#teacher_prefix\n",
    "teacher_prefix = Input(shape=(1,), name='teacher_prefix')\n",
    "X_teacher_prefix = Embedding(output_dim=embedding_size_teacher_prefix , input_dim=no_of_unique_teacher_prefix, input_length=1)(teacher_prefix)\n",
    "flatten_3 = Flatten()(X_teacher_prefix)\n",
    "\n",
    "\n",
    "#clean_categories\n",
    "clean_categories = Input(shape=(1,), name='clean_categories')\n",
    "X_clean_categories = Embedding(output_dim=embedding_size_clean_categories, input_dim=no_of_unique_clean_categories, input_length=1)(clean_categories)\n",
    "flatten_4 = Flatten()(X_clean_categories)\n",
    "\n",
    "\n",
    "#clean_subcategories\n",
    "clean_subcategories = Input(shape=(1,), name='clean_subcategories')\n",
    "X_clean_subcategories = Embedding(output_dim=embedding_size_clean_subcategories, input_dim=no_of_unique_clean_subcategories, input_length=1)(clean_subcategories)\n",
    "flatten_5 = Flatten()(X_clean_subcategories)\n",
    "\n",
    "\n",
    "\n",
    "#project_grade_category\n",
    "project_grade_category = Input(shape=(1,), name='project_grade_category')\n",
    "X_project_grade_category = Embedding(output_dim=embedding_size_project_grade_category, input_dim=no_of_unique_project_grade_category, input_length=1)(project_grade_category)\n",
    "flatten_6 = Flatten()(X_project_grade_category)\n",
    "\n",
    "# numerical features\n",
    "numeric_features = Input(shape=(2,) , name=\"numerical_features\")\n",
    "numeric_dense = Dense(150, activation='relu' , kernel_initializer='he_normal',kernel_regularizer=l2(0.001))(numeric_features )\n",
    "\n",
    "#Concating all the flatenned inputs\n",
    "X_concat = concatenate([flatten_1 , flatten_2 , flatten_3 ,flatten_4 , flatten_5 , flatten_6 , numeric_dense])\n",
    "\n",
    "model = Dense(500, activation=\"relu\", kernel_initializer=\"he_normal\" ,kernel_regularizer=regularizers.l2(0.001))(X_concat)\n",
    "\n",
    "model = Dropout(0.5)(model)\n",
    "\n",
    "model = Dense(250,activation=\"relu\",kernel_initializer=\"glorot_normal\" ,kernel_regularizer=regularizers.l2(0.001))(model)\n",
    "\n",
    "model = BatchNormalization()(model)\n",
    "\n",
    "model = Dropout(0.5)(model)\n",
    "\n",
    "model = Dense(100,activation=\"relu\", kernel_initializer=\"glorot_normal\" ,kernel_regularizer=regularizers.l2(0.001))(model)\n",
    "\n",
    "model = Dropout(0.4)(model)\n",
    "\n",
    "model = Dense(50,activation=\"relu\", kernel_initializer=\"glorot_normal\" ,kernel_regularizer=regularizers.l2(0.001))(model)\n",
    "\n",
    "output = Dense(2, activation='softmax', name='output')(model)\n",
    "\n",
    "model_1 = Model(inputs=[essay, school_state ,teacher_prefix,clean_categories,\n",
    "                       clean_subcategories ,project_grade_category ,numeric_features ],outputs=[output])\n",
    "\n",
    "\n",
    "\n",
    "print(model_1.summary())"
   ]
  },
  {
   "cell_type": "code",
   "execution_count": 27,
   "metadata": {},
   "outputs": [],
   "source": [
    "checkpoint1 = ModelCheckpoint(\"model_1.h5\",\n",
    "                             monitor=\"val_auroc\",\n",
    "                             mode=\"max\",\n",
    "                             save_best_only = True,\n",
    "                             verbose=1)\n",
    "earlystop1 = EarlyStopping(monitor = 'val_auroc', \n",
    "                            mode=\"max\",\n",
    "                            min_delta = 0, \n",
    "                            patience = 3,\n",
    "                            verbose = 1)\n",
    "\n",
    "tensorboard1 = TensorBoard(log_dir='Model1_visualization')\n",
    "\n",
    "callbacks_1 = [checkpoint1,earlystop1,tensorboard1]"
   ]
  },
  {
   "cell_type": "code",
   "execution_count": 28,
   "metadata": {},
   "outputs": [],
   "source": [
    "train_all = [X_train_pad,X_train_school_state,X_train_teacher_prefix,X_train_clean_categories,X_train_clean_subcategories,X_train_project_grade_category,X_train_numeric_features]\n",
    "\n",
    "test_all = [X_test_pad,X_test_school_state,X_test_teacher_prefix,X_test_clean_categories,X_test_clean_subcategories,X_test_project_grade_category,X_test_numeric_features]"
   ]
  },
  {
   "cell_type": "code",
   "execution_count": 29,
   "metadata": {},
   "outputs": [],
   "source": [
    "from keras.utils import np_utils\n",
    "\n",
    "#np_utils.to_categorical is used to convert array of labeled data(from 0 to nb_classes-1) to one-hot vector.\n",
    "\n",
    "y_train = np_utils.to_categorical(Y_train, 2) \n",
    "y_test = np_utils.to_categorical(Y_test, 2)"
   ]
  },
  {
   "cell_type": "code",
   "execution_count": 30,
   "metadata": {},
   "outputs": [
    {
     "name": "stdout",
     "output_type": "stream",
     "text": [
      "WARNING:tensorflow:From <ipython-input-25-5611ee7c481f>:8: py_func (from tensorflow.python.ops.script_ops) is deprecated and will be removed in a future version.\n",
      "Instructions for updating:\n",
      "tf.py_func is deprecated in TF V2. Instead, there are two\n",
      "    options available in V2.\n",
      "    - tf.py_function takes a python function which manipulates tf eager\n",
      "    tensors instead of numpy arrays. It's easy to convert a tf eager tensor to\n",
      "    an ndarray (just call tensor.numpy()) but having access to eager tensors\n",
      "    means `tf.py_function`s can use accelerators such as GPUs as well as\n",
      "    being differentiable using a gradient tape.\n",
      "    - tf.numpy_function maintains the semantics of the deprecated tf.py_func\n",
      "    (it is not differentiable, and manipulates numpy arrays). It drops the\n",
      "    stateful argument making all functions stateful.\n",
      "    \n",
      "WARNING:tensorflow:From C:\\Users\\sesha\\anaconda3\\lib\\site-packages\\keras\\backend\\tensorflow_backend.py:422: The name tf.global_variables is deprecated. Please use tf.compat.v1.global_variables instead.\n",
      "\n",
      "Train on 81936 samples, validate on 27312 samples\n",
      "WARNING:tensorflow:From C:\\Users\\sesha\\anaconda3\\lib\\site-packages\\keras\\callbacks\\tensorboard_v1.py:200: The name tf.summary.merge_all is deprecated. Please use tf.compat.v1.summary.merge_all instead.\n",
      "\n",
      "WARNING:tensorflow:From C:\\Users\\sesha\\anaconda3\\lib\\site-packages\\keras\\callbacks\\tensorboard_v1.py:203: The name tf.summary.FileWriter is deprecated. Please use tf.compat.v1.summary.FileWriter instead.\n",
      "\n",
      "Epoch 1/10\n",
      "81936/81936 [==============================] - 173s 2ms/step - loss: 1.5088 - auroc: 0.5588 - val_loss: 1.0536 - val_auroc: 0.6925\n",
      "\n",
      "Epoch 00001: val_auroc improved from -inf to 0.69249, saving model to model_1.h5\n",
      "WARNING:tensorflow:From C:\\Users\\sesha\\anaconda3\\lib\\site-packages\\keras\\callbacks\\tensorboard_v1.py:343: The name tf.Summary is deprecated. Please use tf.compat.v1.Summary instead.\n",
      "\n",
      "Epoch 2/10\n",
      "81936/81936 [==============================] - 186s 2ms/step - loss: 0.8328 - auroc: 0.7015 - val_loss: 0.7461 - val_auroc: 0.7441\n",
      "\n",
      "Epoch 00002: val_auroc improved from 0.69249 to 0.74409, saving model to model_1.h5\n",
      "Epoch 3/10\n",
      "81936/81936 [==============================] - 191s 2ms/step - loss: 0.6545 - auroc: 0.7527 - val_loss: 0.6336 - val_auroc: 0.7562\n",
      "\n",
      "Epoch 00003: val_auroc improved from 0.74409 to 0.75619, saving model to model_1.h5\n",
      "Epoch 4/10\n",
      "81936/81936 [==============================] - 196s 2ms/step - loss: 0.5309 - auroc: 0.7853 - val_loss: 0.5462 - val_auroc: 0.7575\n",
      "\n",
      "Epoch 00004: val_auroc improved from 0.75619 to 0.75753, saving model to model_1.h5\n",
      "Epoch 5/10\n",
      "81936/81936 [==============================] - 190s 2ms/step - loss: 0.4587 - auroc: 0.8247 - val_loss: 0.4857 - val_auroc: 0.7451\n",
      "\n",
      "Epoch 00005: val_auroc did not improve from 0.75753\n",
      "Epoch 6/10\n",
      "81936/81936 [==============================] - 195s 2ms/step - loss: 0.3974 - auroc: 0.8650 - val_loss: 0.4925 - val_auroc: 0.7205\n",
      "\n",
      "Epoch 00006: val_auroc did not improve from 0.75753\n",
      "Epoch 7/10\n",
      "81936/81936 [==============================] - 198s 2ms/step - loss: 0.3579 - auroc: 0.8950 - val_loss: 0.4923 - val_auroc: 0.7044\n",
      "\n",
      "Epoch 00007: val_auroc did not improve from 0.75753\n",
      "Epoch 00007: early stopping\n"
     ]
    }
   ],
   "source": [
    "model_1.compile(optimizer='adam', loss='categorical_crossentropy', metrics=[auroc])\n",
    "history = model_1.fit(train_all, y_train, batch_size=256, epochs=10, verbose=1,callbacks=callbacks_1, validation_data=(test_all, y_test))"
   ]
  },
  {
   "cell_type": "code",
   "execution_count": 31,
   "metadata": {},
   "outputs": [],
   "source": [
    "def plt_dynamic(x, vy, ty, ax, colors=['b']):\n",
    "    ax.plot(x, vy, 'b', label=\"Validation Loss\")\n",
    "    ax.plot(x, ty, 'r', label=\"Train Loss\")\n",
    "    plt.legend()\n",
    "    plt.grid()\n",
    "    fig.canvas.draw()"
   ]
  },
  {
   "cell_type": "code",
   "execution_count": 32,
   "metadata": {},
   "outputs": [
    {
     "data": {
      "image/png": "[encoded data removed]",
      "text/plain": [
       "<Figure size 432x288 with 1 Axes>"
      ]
     },
     "metadata": {
      "needs_background": "light"
     },
     "output_type": "display_data"
    }
   ],
   "source": [
    "%matplotlib inline\n",
    "fig,ax = plt.subplots(1,1)\n",
    "ax.set_xlabel('epoch') ; ax.set_ylabel('Binary Crossentropy Loss')\n",
    "x = list(range(1,8))\n",
    "vy = history.history['val_loss']\n",
    "ty = history.history['loss']\n",
    "plt_dynamic(x, vy, ty, ax)"
   ]
  },
  {
   "cell_type": "markdown",
   "metadata": {},
   "source": [
    "# MODEL 2\n",
    "    \n",
    "Use the same model as above but for 'input_seq_total_text_data' give only some words in the sentance not all the words. Filter the words as below. \n",
    "    \n",
    "<pre>\n",
    "1. Train the TF-IDF on the Train data <br>\n",
    "2. Get the idf value for each word we have in the train data. <br>\n",
    "3. Remove the low idf value and high idf value words from our data. Do some analysis on the Idf values and based on those values choose the low and high threshold value. Because very frequent words and very very rare words don't give much information. (you can plot a box plots and take only the idf scores within IQR range and corresponding words)<br>\n",
    "4. Train the LSTM after removing the Low and High idf value words. (In model-1 Train on total data but in Model-2 train on data after removing some words based on IDF values)\n",
    "</pre>"
   ]
  },
  {
   "cell_type": "markdown",
   "metadata": {},
   "source": [
    "### Using TFIDF vectorizer"
   ]
  },
  {
   "cell_type": "code",
   "execution_count": 35,
   "metadata": {},
   "outputs": [],
   "source": [
    "vectorizer = TfidfVectorizer()\n",
    "tfidf = vectorizer.fit_transform(X_train[\"essay\"])"
   ]
  },
  {
   "cell_type": "markdown",
   "metadata": {},
   "source": [
    "### Calculating the idf values"
   ]
  },
  {
   "cell_type": "code",
   "execution_count": 36,
   "metadata": {},
   "outputs": [],
   "source": [
    "data = {'word': vectorizer.get_feature_names() , 'idf_value': vectorizer.idf_}"
   ]
  },
  {
   "cell_type": "code",
   "execution_count": 37,
   "metadata": {},
   "outputs": [],
   "source": [
    "tfidf_df = pd.DataFrame(data=data)"
   ]
  },
  {
   "cell_type": "markdown",
   "metadata": {},
   "source": [
    "### 2) Removing the Rearly occuring words(High idf) and Frequently occuring words(Low idf) as they dont give much information to  our model"
   ]
  },
  {
   "cell_type": "code",
   "execution_count": 38,
   "metadata": {},
   "outputs": [
    {
     "name": "stdout",
     "output_type": "stream",
     "text": [
      "Min tf-idf value is:  1.0078415437893222\n",
      "Max tf-idf value is:  11.62055875771544\n"
     ]
    }
   ],
   "source": [
    "print(\"Min tf-idf value is: \",min(tfidf_df['idf_value']))\n",
    "\n",
    "print(\"Max tf-idf value is: \",max(tfidf_df['idf_value']))"
   ]
  },
  {
   "cell_type": "code",
   "execution_count": 39,
   "metadata": {},
   "outputs": [
    {
     "name": "stderr",
     "output_type": "stream",
     "text": [
      "C:\\Users\\sesha\\anaconda3\\lib\\site-packages\\scipy\\stats\\stats.py:1713: FutureWarning: Using a non-tuple sequence for multidimensional indexing is deprecated; use `arr[tuple(seq)]` instead of `arr[seq]`. In the future this will be interpreted as an array index, `arr[np.array(seq)]`, which will result either in an error or a different result.\n",
      "  return np.add.reduce(sorted[indexer] * weights, axis=axis) / sumval\n"
     ]
    },
    {
     "data": {
      "image/png": "[encoded data removed]",
      "text/plain": [
       "<Figure size 432x288 with 1 Axes>"
      ]
     },
     "metadata": {
      "needs_background": "light"
     },
     "output_type": "display_data"
    }
   ],
   "source": [
    "fig , ax = plt.subplots()\n",
    "\n",
    "ax = sns.violinplot(y=tfidf_df['idf_value'],color='b')\n",
    "ax.set_xlabel(\"violin plot of IDF values\")\n",
    "\n",
    "\n",
    "plt.show()"
   ]
  },
  {
   "cell_type": "markdown",
   "metadata": {},
   "source": [
    "### Percentile Analysis"
   ]
  },
  {
   "cell_type": "code",
   "execution_count": 40,
   "metadata": {},
   "outputs": [
    {
     "name": "stdout",
     "output_type": "stream",
     "text": [
      "Quantiles: 0-10-20-30-40-50-60-70-80-90-100\n",
      "[ 1.00784154  7.56877381  9.0556094  10.01112085 10.70426803 11.21509365\n",
      " 11.21509365 11.62055876 11.62055876 11.62055876]\n",
      "11.62055875771544\n"
     ]
    }
   ],
   "source": [
    "print(\"Quantiles: 0-10-20-30-40-50-60-70-80-90-100\")\n",
    "print(np.percentile(tfidf_df['idf_value'],np.arange(0, 100, 10)))\n",
    "\n",
    "print(np.percentile(tfidf_df['idf_value'] , 100))"
   ]
  },
  {
   "cell_type": "markdown",
   "metadata": {},
   "source": [
    "### Number of Unique words in the corpus"
   ]
  },
  {
   "cell_type": "code",
   "execution_count": 41,
   "metadata": {},
   "outputs": [
    {
     "name": "stdout",
     "output_type": "stream",
     "text": [
      "(24926, 2)\n"
     ]
    }
   ],
   "source": [
    "filter =   (tfidf_df['idf_value']>=2) & (tfidf_df['idf_value'] <=11.21)\n",
    "\n",
    "tfidf_best = tfidf_df[filter]\n",
    "\n",
    "print(tfidf_best.shape)"
   ]
  },
  {
   "cell_type": "code",
   "execution_count": 42,
   "metadata": {},
   "outputs": [],
   "source": [
    "Best_tfidf = tfidf_best['word'].tolist()"
   ]
  },
  {
   "cell_type": "code",
   "execution_count": 43,
   "metadata": {},
   "outputs": [],
   "source": [
    "tokenizer = Tokenizer(num_words= 100000 )\n",
    "tokenizer.fit_on_texts(Best_tfidf)\n",
    "\n",
    "X_train['essay_tok_2']  = tokenizer.texts_to_sequences(X_train['essay'].values)\n",
    "\n",
    "X_test['essay_tok_2']   = tokenizer.texts_to_sequences(X_test['essay'].values)"
   ]
  },
  {
   "cell_type": "code",
   "execution_count": 44,
   "metadata": {},
   "outputs": [
    {
     "name": "stdout",
     "output_type": "stream",
     "text": [
      "There are 24926 number of unique words in the entire text corpus\n",
      "[22546, 17493, 8473, 23411, 6769, 3482, 20700, 7346, 22066, 13350, 20474, 2186, 8420, 16939, 17726, 6623, 23927, 5804, 2354, 13341, 11307, 861, 13196, 13350, 20474, 1712, 14232, 6549, 6285, 6549, 7226, 13040, 8274, 9376, 13040, 24124, 13341, 10021, 4087, 20011, 8078, 24675, 15321, 8052, 14021, 20560, 21190, 11358, 24578, 3888, 20700, 7346, 24698, 10021, 861, 24578, 3888, 1243, 24578, 24440, 1638, 11679, 22589, 20167, 21190, 21247, 21023, 7535, 14548, 1754, 19599, 24578, 3888, 1243, 8150, 7692, 1636, 24216, 10669, 4299, 2514, 20700, 7346, 22066, 15339, 8696, 10440, 3888, 7535, 7692, 1243, 14548, 9021, 13796, 10543]\n",
      "95\n"
     ]
    }
   ],
   "source": [
    "max_vocabulary1 = len(tokenizer.word_index)\n",
    "print(\"There are {} number of unique words in the entire text corpus\".format(max_vocabulary1))\n",
    "\n",
    "print(X_train['essay_tok_2'].values[0])\n",
    "print(len(X_train['essay_tok_2'].values[0]))"
   ]
  },
  {
   "cell_type": "markdown",
   "metadata": {},
   "source": [
    "### POST Padding"
   ]
  },
  {
   "cell_type": "code",
   "execution_count": 45,
   "metadata": {},
   "outputs": [],
   "source": [
    "max_review_length = 300\n",
    "X_train_pad1 = sequence.pad_sequences(X_train['essay_tok_2'].values, maxlen=max_review_length , padding='post' )\n",
    "\n",
    "X_test_pad1  = sequence.pad_sequences(X_test['essay_tok_2'].values, maxlen=max_review_length , padding='post' )"
   ]
  },
  {
   "cell_type": "code",
   "execution_count": 46,
   "metadata": {},
   "outputs": [
    {
     "data": {
      "text/plain": [
       "array([22546, 17493,  8473, 23411,  6769,  3482, 20700,  7346, 22066,\n",
       "       13350, 20474,  2186,  8420, 16939, 17726,  6623, 23927,  5804,\n",
       "        2354, 13341, 11307,   861, 13196, 13350, 20474,  1712, 14232,\n",
       "        6549,  6285,  6549,  7226, 13040,  8274,  9376, 13040, 24124,\n",
       "       13341, 10021,  4087, 20011,  8078, 24675, 15321,  8052, 14021,\n",
       "       20560, 21190, 11358, 24578,  3888, 20700,  7346, 24698, 10021,\n",
       "         861, 24578,  3888,  1243, 24578, 24440,  1638, 11679, 22589,\n",
       "       20167, 21190, 21247, 21023,  7535, 14548,  1754, 19599, 24578,\n",
       "        3888,  1243,  8150,  7692,  1636, 24216, 10669,  4299,  2514,\n",
       "       20700,  7346, 22066, 15339,  8696, 10440,  3888,  7535,  7692,\n",
       "        1243, 14548,  9021, 13796, 10543,     0,     0,     0,     0,\n",
       "           0,     0,     0,     0,     0,     0,     0,     0,     0,\n",
       "           0,     0,     0,     0,     0,     0,     0,     0,     0,\n",
       "           0,     0,     0,     0,     0,     0,     0,     0,     0,\n",
       "           0,     0,     0,     0,     0,     0,     0,     0,     0,\n",
       "           0,     0,     0,     0,     0,     0,     0,     0,     0,\n",
       "           0,     0,     0,     0,     0,     0,     0,     0,     0,\n",
       "           0,     0,     0,     0,     0,     0,     0,     0,     0,\n",
       "           0,     0,     0,     0,     0,     0,     0,     0,     0,\n",
       "           0,     0,     0,     0,     0,     0,     0,     0,     0,\n",
       "           0,     0,     0,     0,     0,     0,     0,     0,     0,\n",
       "           0,     0,     0,     0,     0,     0,     0,     0,     0,\n",
       "           0,     0,     0,     0,     0,     0,     0,     0,     0,\n",
       "           0,     0,     0,     0,     0,     0,     0,     0,     0,\n",
       "           0,     0,     0,     0,     0,     0,     0,     0,     0,\n",
       "           0,     0,     0,     0,     0,     0,     0,     0,     0,\n",
       "           0,     0,     0,     0,     0,     0,     0,     0,     0,\n",
       "           0,     0,     0,     0,     0,     0,     0,     0,     0,\n",
       "           0,     0,     0,     0,     0,     0,     0,     0,     0,\n",
       "           0,     0,     0,     0,     0,     0,     0,     0,     0,\n",
       "           0,     0,     0,     0,     0,     0,     0,     0,     0,\n",
       "           0,     0,     0,     0,     0,     0,     0,     0,     0,\n",
       "           0,     0,     0,     0,     0,     0,     0,     0,     0,\n",
       "           0,     0,     0])"
      ]
     },
     "execution_count": 46,
     "metadata": {},
     "output_type": "execute_result"
    }
   ],
   "source": [
    "X_train_pad1[0]"
   ]
  },
  {
   "cell_type": "markdown",
   "metadata": {},
   "source": [
    "### Using the pre trained Glove model for the word vectors"
   ]
  },
  {
   "cell_type": "code",
   "execution_count": 47,
   "metadata": {},
   "outputs": [],
   "source": [
    "with open('E:/BOOKS NEW/Cases datasets/LSTM DonorsChoose/glove_vectors', 'rb') as f:\n",
    "    glove = pickle.load(f)\n",
    "    glove_words =  set(glove.keys())"
   ]
  },
  {
   "cell_type": "code",
   "execution_count": 48,
   "metadata": {},
   "outputs": [],
   "source": [
    "# create a weight matrix for words in training docs\n",
    "embedding_matrix1 = zeros((max_vocabulary1+1, 300))\n",
    "for word, i in tokenizer.word_index.items():\n",
    "  \n",
    "  \n",
    "    if word in glove_words:\n",
    "    \n",
    "        embedding_vector1 = glove[word]\n",
    "        embedding_matrix1[i] = embedding_vector1"
   ]
  },
  {
   "cell_type": "code",
   "execution_count": 49,
   "metadata": {},
   "outputs": [
    {
     "name": "stdout",
     "output_type": "stream",
     "text": [
      "(300,)\n",
      "[ 0.38311    0.58955   -0.42684   -0.11505    0.23785    0.29834\n",
      " -0.71938    0.15237    0.085018   0.041687  -0.34072    0.97654\n",
      "  0.24777    0.09065   -0.43767   -0.08772    0.0031667 -0.071644\n",
      "  0.55351   -0.11632   -0.028157   0.32075    0.26208    0.37667\n",
      "  0.26503   -0.11469    0.032618  -0.18537    0.10012    0.49492\n",
      "  0.20423   -0.43822    0.48834   -0.43821    0.41716   -0.10504\n",
      "  0.044853  -0.38108   -0.087677   0.94326   -0.28966   -0.0069608\n",
      " -0.33716   -0.18373    0.060478   0.27742   -0.035231   0.30744\n",
      " -0.66424    0.089716   0.14229    0.84869   -0.12057   -0.14589\n",
      " -0.22944    0.34677    0.062355  -0.48993    0.47824   -0.022702\n",
      "  0.42403    0.31398    0.043538   0.35516    0.57668    0.47269\n",
      "  0.14307    0.23131   -0.12372    0.25442   -0.23657   -0.41193\n",
      "  0.10668   -0.66548   -0.70757    0.1851    -0.1038    -0.39208\n",
      "  0.18296   -0.30977   -0.018167   0.32197    0.17513   -0.42211\n",
      " -0.13277    0.29645    0.021128  -0.34988    0.71415   -0.3805\n",
      " -0.22953   -0.27483   -0.015603  -0.11907    0.10681    0.90405\n",
      " -0.89516    0.62543    0.55614    0.22279   -0.17113   -0.29833\n",
      " -0.79264   -0.23324   -0.092969  -0.45042    0.47973    0.88689\n",
      " -0.42719    0.34665   -0.51062   -0.26627   -0.73931   -0.46068\n",
      "  0.36344   -0.28019    0.41742    0.58817    0.10852   -0.0079874\n",
      " -0.11434    0.15054    0.63973    0.41721    0.24404   -0.68039\n",
      " -0.4055    -0.52723    0.33952   -0.11677   -0.089904   0.81436\n",
      "  0.26772    0.073576  -0.52452   -0.50729   -0.54258   -0.14842\n",
      " -0.22435   -0.13641   -0.12253    0.43157   -0.71492   -0.31669\n",
      " -0.30325   -0.49072   -0.01959   -0.11519   -0.57455   -0.086298\n",
      "  0.12211   -0.08537    0.2351     0.054954   0.17056    0.36587\n",
      "  0.29804   -0.68196    0.63021   -0.25957   -0.44552    0.37638\n",
      "  0.31014   -0.41451   -0.033984  -0.46487    0.31377   -0.20226\n",
      "  0.48858    0.01402   -0.87869    0.27225   -0.13412   -0.35145\n",
      "  0.07657    0.22391   -0.01095   -0.15935    0.18226    0.055708\n",
      " -0.038036   0.48037   -0.14483    0.32668    0.061728   0.22374\n",
      " -0.1482    -0.269     -0.65264    0.1343    -0.55079   -0.32581\n",
      " -0.46325    0.21897    0.29431   -0.98949    0.26147    0.68728\n",
      " -0.056174  -0.19671   -0.36356    0.25835   -0.36482    0.11671\n",
      "  0.41547   -0.45227    0.22565    0.47386    0.27675    0.12709\n",
      "  0.030362  -0.74851    0.33315   -0.16154    0.40523   -0.35153\n",
      "  0.24219   -0.010269  -0.27914    0.4083     0.44669   -0.23572\n",
      " -0.2744     0.13094   -2.9057     0.41858    0.604      0.19251\n",
      " -0.1756     0.14679    0.2244    -0.1519     0.5022    -0.64604\n",
      "  0.66071   -0.15955    0.49364    0.36689   -0.21363   -0.45818\n",
      " -0.18868    0.16895    0.59806   -0.72444    0.3018    -0.6566\n",
      "  0.061542  -0.27434   -0.77936   -0.53357    0.65501    0.3633\n",
      " -0.17993    0.19085    0.23041    0.4376     0.39892    0.50818\n",
      "  0.43578    0.23757   -0.5759    -0.11419    0.38459   -0.99393\n",
      "  0.33491    0.20122    0.60021   -0.12203    0.30979   -0.29233\n",
      " -0.49053   -0.36853    0.074609   0.02444   -0.040684   0.065733\n",
      "  0.56815   -0.4727    -0.22972   -0.39545   -0.2783     0.51589\n",
      "  0.41044    0.044208   0.058739  -0.54321    0.27625   -0.24973\n",
      "  0.6827    -0.67666   -0.34129   -0.38119   -0.12608    0.38659\n",
      " -0.36249    0.28039    0.087084   0.34844    0.28596   -0.17433  ]\n"
     ]
    }
   ],
   "source": [
    "print(embedding_matrix1[1].shape)\n",
    "print(embedding_matrix1[1])"
   ]
  },
  {
   "cell_type": "markdown",
   "metadata": {},
   "source": [
    "## MODEL 2 : LSTM\n",
    "\n",
    "### Using flatten_2 , flatten_3 ,flatten_4 , flatten_5 , flatten_6 , numeric_dense from MODEL 1"
   ]
  },
  {
   "cell_type": "code",
   "execution_count": 50,
   "metadata": {},
   "outputs": [
    {
     "name": "stdout",
     "output_type": "stream",
     "text": [
      "Model: \"model_2\"\n",
      "__________________________________________________________________________________________________\n",
      "Layer (type)                    Output Shape         Param #     Connected to                     \n",
      "==================================================================================================\n",
      "essay_input1 (InputLayer)       (None, 300)          0                                            \n",
      "__________________________________________________________________________________________________\n",
      "embedding_8 (Embedding)         (None, 300, 300)     7478100     essay_input1[0][0]               \n",
      "__________________________________________________________________________________________________\n",
      "school_state (InputLayer)       (None, 1)            0                                            \n",
      "__________________________________________________________________________________________________\n",
      "teacher_prefix (InputLayer)     (None, 1)            0                                            \n",
      "__________________________________________________________________________________________________\n",
      "clean_categories (InputLayer)   (None, 1)            0                                            \n",
      "__________________________________________________________________________________________________\n",
      "clean_subcategories (InputLayer (None, 1)            0                                            \n",
      "__________________________________________________________________________________________________\n",
      "project_grade_category (InputLa (None, 1)            0                                            \n",
      "__________________________________________________________________________________________________\n",
      "lstm_2 (LSTM)                   (None, 300, 100)     160400      embedding_8[0][0]                \n",
      "__________________________________________________________________________________________________\n",
      "embedding_2 (Embedding)         (None, 1, 26)        1326        school_state[0][0]               \n",
      "__________________________________________________________________________________________________\n",
      "embedding_3 (Embedding)         (None, 1, 3)         15          teacher_prefix[0][0]             \n",
      "__________________________________________________________________________________________________\n",
      "embedding_4 (Embedding)         (None, 1, 26)        1326        clean_categories[0][0]           \n",
      "__________________________________________________________________________________________________\n",
      "embedding_5 (Embedding)         (None, 1, 50)        19550       clean_subcategories[0][0]        \n",
      "__________________________________________________________________________________________________\n",
      "embedding_6 (Embedding)         (None, 1, 2)         8           project_grade_category[0][0]     \n",
      "__________________________________________________________________________________________________\n",
      "numerical_features (InputLayer) (None, 2)            0                                            \n",
      "__________________________________________________________________________________________________\n",
      "flatten_8 (Flatten)             (None, 30000)        0           lstm_2[0][0]                     \n",
      "__________________________________________________________________________________________________\n",
      "flatten_2 (Flatten)             (None, 26)           0           embedding_2[0][0]                \n",
      "__________________________________________________________________________________________________\n",
      "flatten_3 (Flatten)             (None, 3)            0           embedding_3[0][0]                \n",
      "__________________________________________________________________________________________________\n",
      "flatten_4 (Flatten)             (None, 26)           0           embedding_4[0][0]                \n",
      "__________________________________________________________________________________________________\n",
      "flatten_5 (Flatten)             (None, 50)           0           embedding_5[0][0]                \n",
      "__________________________________________________________________________________________________\n",
      "flatten_6 (Flatten)             (None, 2)            0           embedding_6[0][0]                \n",
      "__________________________________________________________________________________________________\n",
      "dense_1 (Dense)                 (None, 150)          450         numerical_features[0][0]         \n",
      "__________________________________________________________________________________________________\n",
      "concatenate_2 (Concatenate)     (None, 30257)        0           flatten_8[0][0]                  \n",
      "                                                                 flatten_2[0][0]                  \n",
      "                                                                 flatten_3[0][0]                  \n",
      "                                                                 flatten_4[0][0]                  \n",
      "                                                                 flatten_5[0][0]                  \n",
      "                                                                 flatten_6[0][0]                  \n",
      "                                                                 dense_1[0][0]                    \n",
      "__________________________________________________________________________________________________\n",
      "dense_6 (Dense)                 (None, 100)          3025800     concatenate_2[0][0]              \n",
      "__________________________________________________________________________________________________\n",
      "dropout_4 (Dropout)             (None, 100)          0           dense_6[0][0]                    \n",
      "__________________________________________________________________________________________________\n",
      "dense_7 (Dense)                 (None, 250)          25250       dropout_4[0][0]                  \n",
      "__________________________________________________________________________________________________\n",
      "batch_normalization_2 (BatchNor (None, 250)          1000        dense_7[0][0]                    \n",
      "__________________________________________________________________________________________________\n",
      "dropout_5 (Dropout)             (None, 250)          0           batch_normalization_2[0][0]      \n",
      "__________________________________________________________________________________________________\n",
      "dense_8 (Dense)                 (None, 100)          25100       dropout_5[0][0]                  \n",
      "__________________________________________________________________________________________________\n",
      "output (Dense)                  (None, 2)            202         dense_8[0][0]                    \n",
      "==================================================================================================\n",
      "Total params: 10,738,527\n",
      "Trainable params: 10,738,027\n",
      "Non-trainable params: 500\n",
      "__________________________________________________________________________________________________\n",
      "None\n"
     ]
    }
   ],
   "source": [
    "essay1 = Input(shape=(300,), name='essay_input1')\n",
    "\n",
    "X1 = Embedding(output_dim=300, input_dim=max_vocabulary1+1, input_length=300 , weights=[embedding_matrix1])(essay1)\n",
    "\n",
    "lstm_essay1 = LSTM(100,recurrent_dropout=0.5,kernel_regularizer=regularizers.l2(0.001),return_sequences=True)(X1)\n",
    "flatten_new = Flatten()(lstm_essay1)\n",
    "\n",
    "X_concat = concatenate([flatten_new , flatten_2 , flatten_3 ,flatten_4 , flatten_5 , flatten_6 , numeric_dense])\n",
    "\n",
    "model = Dense(100, activation=\"relu\", kernel_initializer=\"he_normal\" ,kernel_regularizer=regularizers.l2(0.001))(X_concat)\n",
    "\n",
    "model = Dropout(0.5)(model)\n",
    "\n",
    "model = Dense(250,activation=\"relu\",kernel_initializer=\"glorot_normal\" ,kernel_regularizer=regularizers.l2(0.001))(model)\n",
    "\n",
    "model = BatchNormalization()(model)\n",
    "\n",
    "model = Dropout(0.5)(model)\n",
    "\n",
    "model = Dense(100,activation=\"relu\", kernel_initializer=\"glorot_normal\" ,kernel_regularizer=regularizers.l2(0.001))(model)\n",
    "\n",
    "\n",
    "output = Dense(2, activation='softmax', name='output')(model)\n",
    "\n",
    "model_2 = Model(inputs=[essay1, school_state ,teacher_prefix,clean_categories,\n",
    "                       clean_subcategories ,project_grade_category ,numeric_features ],outputs=[output])\n",
    "\n",
    "\n",
    "\n",
    "print(model_2.summary())"
   ]
  },
  {
   "cell_type": "code",
   "execution_count": 51,
   "metadata": {},
   "outputs": [],
   "source": [
    "train_all = [X_train_pad1,X_train_school_state,X_train_teacher_prefix,X_train_clean_categories,X_train_clean_subcategories,X_train_project_grade_category,X_train_numeric_features]\n",
    "\n",
    "test_all = [X_test_pad1,X_test_school_state,X_test_teacher_prefix,X_test_clean_categories,X_test_clean_subcategories,X_test_project_grade_category,X_test_numeric_features]"
   ]
  },
  {
   "cell_type": "code",
   "execution_count": 52,
   "metadata": {},
   "outputs": [],
   "source": [
    "checkpoint2 = ModelCheckpoint(\"model_2.h5\",\n",
    "                             monitor=\"val_auroc\",\n",
    "                             mode=\"max\",\n",
    "                             save_best_only = True,\n",
    "                             verbose=1)\n",
    "earlystop2 = EarlyStopping(monitor = 'val_auroc', \n",
    "                            mode=\"max\",\n",
    "                            min_delta = 0, \n",
    "                            patience = 2,\n",
    "                            verbose = 1)\n",
    "\n",
    "tensorboard2 = TensorBoard(log_dir='Model2_visualization')\n",
    "\n",
    "callbacks_2 = [checkpoint2,earlystop2,tensorboard2]"
   ]
  },
  {
   "cell_type": "code",
   "execution_count": 53,
   "metadata": {},
   "outputs": [
    {
     "name": "stdout",
     "output_type": "stream",
     "text": [
      "Train on 81936 samples, validate on 27312 samples\n",
      "Epoch 1/10\n",
      "81936/81936 [==============================] - 108s 1ms/step - loss: 0.8097 - auroc: 0.5995 - val_loss: 0.8023 - val_auroc: 0.7306\n",
      "\n",
      "Epoch 00001: val_auroc improved from -inf to 0.73063, saving model to model_2.h5\n",
      "Epoch 2/10\n",
      "81936/81936 [==============================] - 114s 1ms/step - loss: 0.5302 - auroc: 0.7285 - val_loss: 0.6247 - val_auroc: 0.7497\n",
      "\n",
      "Epoch 00002: val_auroc improved from 0.73063 to 0.74968, saving model to model_2.h5\n",
      "Epoch 3/10\n",
      "81936/81936 [==============================] - 118s 1ms/step - loss: 0.4602 - auroc: 0.7698 - val_loss: 0.5139 - val_auroc: 0.7470\n",
      "\n",
      "Epoch 00003: val_auroc did not improve from 0.74968\n",
      "Epoch 4/10\n",
      "81936/81936 [==============================] - 118s 1ms/step - loss: 0.4081 - auroc: 0.8065 - val_loss: 0.4749 - val_auroc: 0.7417\n",
      "\n",
      "Epoch 00004: val_auroc did not improve from 0.74968\n",
      "Epoch 00004: early stopping\n"
     ]
    }
   ],
   "source": [
    "model_2.compile(optimizer='adam', loss='categorical_crossentropy', metrics=[auroc])\n",
    "\n",
    "history2 = model_2.fit(train_all, y_train, batch_size=256, epochs=10, verbose=1,callbacks=callbacks_2, validation_data=(test_all, y_test))"
   ]
  },
  {
   "cell_type": "markdown",
   "metadata": {},
   "source": [
    "# MODEL-3\n",
    "\n",
    "<img src='https://i.imgur.com/fkQ8nGo.png'>\n",
    "ref: https://i.imgur.com/fkQ8nGo.png\n",
    "    \n",
    "\n",
    "- __input_seq_total_text_data__: <br>\n",
    "<pre>\n",
    "    . Use text column('essay'), and use the Embedding layer to get word vectors. <br>\n",
    "    . Use given predefined glove word vectors, don't train any word vectors. <br>\n",
    "    . Use LSTM that is given above, get the LSTM output and Flatten that output. <br>\n",
    "    . You are free to preprocess the input text as you needed. <br>\n",
    "</pre>\n",
    "- __Other_than_text_data__:<br>\n",
    "<pre>\n",
    "    . Convert all your Categorical values to onehot coded and then concatenate all these onehot vectors <br>\n",
    "    . Numerical values and use <a href='https://keras.io/getting-started/sequential-model-guide/#sequence-classification-with-1d-convolutions'>CNN1D</a> as shown in above figure. <br>\n",
    "    . You are free to choose all CNN parameters like kernel sizes, stride.<br>\n",
    "    \n",
    "</pre>\n",
    "\n"
   ]
  },
  {
   "cell_type": "markdown",
   "metadata": {},
   "source": [
    "## TEXT DATA\n",
    "\n",
    "### 1) school_state"
   ]
  },
  {
   "cell_type": "code",
   "execution_count": 63,
   "metadata": {},
   "outputs": [
    {
     "name": "stdout",
     "output_type": "stream",
     "text": [
      "(81936, 51) (81936, 2)\n",
      "(27312, 51) (27312, 2)\n"
     ]
    }
   ],
   "source": [
    "vectorizer = CountVectorizer()\n",
    "vectorizer.fit(X_train['school_state'].values)\n",
    "x_train_state_one_hot = vectorizer.transform(X_train['school_state'].values)\n",
    "x_test_state_one_hot = vectorizer.transform(X_test['school_state'].values)\n",
    "\n",
    "\n",
    "\n",
    "print(x_train_state_one_hot.shape, y_train.shape)\n",
    "print(x_test_state_one_hot.shape, y_test.shape)"
   ]
  },
  {
   "cell_type": "markdown",
   "metadata": {},
   "source": [
    "### 2) clean_categories"
   ]
  },
  {
   "cell_type": "code",
   "execution_count": 64,
   "metadata": {},
   "outputs": [
    {
     "name": "stdout",
     "output_type": "stream",
     "text": [
      "['appliedlearning', 'care_hunger', 'health_sports', 'history_civics', 'literacy_language', 'math_science', 'music_arts', 'specialneeds', 'warmth']\n",
      "(81936, 9) (81936, 2)\n",
      "(27312, 9) (27312, 2)\n"
     ]
    }
   ],
   "source": [
    "vectorizer = CountVectorizer()\n",
    "vectorizer.fit(X_train['clean_categories'].values)\n",
    "\n",
    "x_train_categories_one_hot = vectorizer.transform(X_train['clean_categories'].values)\n",
    "x_test_categories_one_hot = vectorizer.transform(X_test['clean_categories'].values)\n",
    "\n",
    "\n",
    "\n",
    "print(vectorizer.get_feature_names())\n",
    "\n",
    "\n",
    "print(x_train_categories_one_hot.shape, y_train.shape)\n",
    "print(x_test_categories_one_hot.shape, y_test.shape)"
   ]
  },
  {
   "cell_type": "markdown",
   "metadata": {},
   "source": [
    "### 3) clean_subcategories"
   ]
  },
  {
   "cell_type": "code",
   "execution_count": 65,
   "metadata": {},
   "outputs": [
    {
     "name": "stdout",
     "output_type": "stream",
     "text": [
      "['appliedsciences', 'care_hunger', 'charactereducation', 'civics_government', 'college_careerprep', 'communityservice', 'earlydevelopment', 'economics', 'environmentalscience', 'esl', 'extracurricular', 'financialliteracy', 'foreignlanguages', 'gym_fitness', 'health_lifescience', 'health_wellness', 'history_geography', 'literacy', 'literature_writing', 'mathematics', 'music', 'nutritioneducation', 'other', 'parentinvolvement', 'performingarts', 'socialsciences', 'specialneeds', 'teamsports', 'visualarts', 'warmth']\n",
      "(81936, 30) (81936, 2)\n",
      "(27312, 30) (27312, 2)\n"
     ]
    }
   ],
   "source": [
    "vectorizer = CountVectorizer()\n",
    "vectorizer.fit(X_train['clean_subcategories'].values)\n",
    "\n",
    "x_train_subcategories_one_hot = vectorizer.transform(X_train['clean_subcategories'].values)\n",
    "x_test_subcategories_one_hot = vectorizer.transform(X_test['clean_subcategories'].values)\n",
    "print(vectorizer.get_feature_names())\n",
    "\n",
    "print(x_train_subcategories_one_hot.shape, y_train.shape)\n",
    "print(x_test_subcategories_one_hot.shape, y_test.shape)"
   ]
  },
  {
   "cell_type": "markdown",
   "metadata": {},
   "source": [
    "### 4) teacher_prefix"
   ]
  },
  {
   "cell_type": "code",
   "execution_count": 66,
   "metadata": {},
   "outputs": [
    {
     "name": "stdout",
     "output_type": "stream",
     "text": [
      "(81936, 5) (81936, 2)\n",
      "(27312, 5) (27312, 2)\n"
     ]
    }
   ],
   "source": [
    "vectorizer = CountVectorizer()\n",
    "vectorizer.fit(X_train['teacher_prefix'].values)\n",
    "x_train_teacher_prefix_one_hot = vectorizer.transform(X_train['teacher_prefix'].values)\n",
    "x_test_teacher_prefix_one_hot = vectorizer.transform(X_test['teacher_prefix'].values)\n",
    "\n",
    "print(x_train_teacher_prefix_one_hot.shape, y_train.shape)\n",
    "print(x_test_teacher_prefix_one_hot.shape, y_test.shape)"
   ]
  },
  {
   "cell_type": "markdown",
   "metadata": {},
   "source": [
    "### 5) project_grade_category"
   ]
  },
  {
   "cell_type": "code",
   "execution_count": 67,
   "metadata": {},
   "outputs": [
    {
     "name": "stdout",
     "output_type": "stream",
     "text": [
      "['grades_3_5', 'grades_6_8', 'grades_9_12', 'grades_prek_2']\n",
      "(81936, 4) (81936, 2)\n",
      "(27312, 4) (27312, 2)\n"
     ]
    }
   ],
   "source": [
    "vectorizer = CountVectorizer()\n",
    "vectorizer.fit(X_train['project_grade_category'].values)\n",
    "x_train_project_grade_one_hot = vectorizer.transform(X_train['project_grade_category'].values)\n",
    "x_test_project_grade_one_hot = vectorizer.transform(X_test['project_grade_category'].values)\n",
    "print(vectorizer.get_feature_names())\n",
    "\n",
    "print(x_train_project_grade_one_hot.shape, y_train.shape)\n",
    "print(x_test_project_grade_one_hot.shape, y_test.shape)"
   ]
  },
  {
   "cell_type": "markdown",
   "metadata": {},
   "source": [
    "## OTHER THAN TEXT DATA\n",
    "\n",
    "### a) One Hot Encoding\n",
    "### b) Stacking one on top of the other in the form of a dense matrix"
   ]
  },
  {
   "cell_type": "code",
   "execution_count": 68,
   "metadata": {},
   "outputs": [],
   "source": [
    "train_features_withouttext= hstack((x_train_project_grade_one_hot,x_train_teacher_prefix_one_hot,x_train_categories_one_hot,x_train_subcategories_one_hot,x_train_state_one_hot,X_train_price,X_train_num_projects)).todense()\n",
    "\n",
    "test_features_withouttext = hstack((x_test_project_grade_one_hot,x_test_teacher_prefix_one_hot,x_test_categories_one_hot,x_test_subcategories_one_hot,x_test_state_one_hot,X_test_price,X_test_num_projects)).todense()"
   ]
  },
  {
   "cell_type": "markdown",
   "metadata": {},
   "source": [
    "### Adding new dimension as '2' as we want a 2 Dimensional output"
   ]
  },
  {
   "cell_type": "code",
   "execution_count": 69,
   "metadata": {},
   "outputs": [],
   "source": [
    "rest_features_train = np.expand_dims(train_features_withouttext,2)\n",
    "rest_features_test = np.expand_dims(test_features_withouttext,2)"
   ]
  },
  {
   "cell_type": "code",
   "execution_count": 70,
   "metadata": {},
   "outputs": [
    {
     "name": "stdout",
     "output_type": "stream",
     "text": [
      "Final Train data shape (81936, 101, 1)\n",
      "Final Test data shape (27312, 101, 1)\n"
     ]
    }
   ],
   "source": [
    "print(\"Final Train data shape\",rest_features_train.shape)\n",
    "print(\"Final Test data shape\",rest_features_test.shape)"
   ]
  },
  {
   "cell_type": "markdown",
   "metadata": {},
   "source": [
    "# Model-3 : \n",
    "\n",
    "### 1) LSTM for TEXT DATA\n",
    "### 2) CONV1D for OTHER THAN TEXT DATA\n",
    "### 3) Dense Layer after Concatenating both"
   ]
  },
  {
   "cell_type": "code",
   "execution_count": 73,
   "metadata": {},
   "outputs": [
    {
     "name": "stdout",
     "output_type": "stream",
     "text": [
      "Model: \"model_4\"\n",
      "__________________________________________________________________________________________________\n",
      "Layer (type)                    Output Shape         Param #     Connected to                     \n",
      "==================================================================================================\n",
      "without_text (InputLayer)       (None, 101, 1)       0                                            \n",
      "__________________________________________________________________________________________________\n",
      "essay_input (InputLayer)        (None, 300)          0                                            \n",
      "__________________________________________________________________________________________________\n",
      "conv1d_1 (Conv1D)               (None, 99, 300)      1200        without_text[0][0]               \n",
      "__________________________________________________________________________________________________\n",
      "embedding_10 (Embedding)        (None, 300, 300)     15096300    essay_input[0][0]                \n",
      "__________________________________________________________________________________________________\n",
      "conv1d_2 (Conv1D)               (None, 97, 150)      135150      conv1d_1[0][0]                   \n",
      "__________________________________________________________________________________________________\n",
      "lstm_5 (LSTM)                   (None, 300, 100)     160400      embedding_10[0][0]               \n",
      "__________________________________________________________________________________________________\n",
      "conv1d_3 (Conv1D)               (None, 95, 50)       22550       conv1d_2[0][0]                   \n",
      "__________________________________________________________________________________________________\n",
      "flatten_10 (Flatten)            (None, 30000)        0           lstm_5[0][0]                     \n",
      "__________________________________________________________________________________________________\n",
      "flatten_11 (Flatten)            (None, 4750)         0           conv1d_3[0][0]                   \n",
      "__________________________________________________________________________________________________\n",
      "concatenate_4 (Concatenate)     (None, 34750)        0           flatten_10[0][0]                 \n",
      "                                                                 flatten_11[0][0]                 \n",
      "__________________________________________________________________________________________________\n",
      "dense_12 (Dense)                (None, 150)          5212650     concatenate_4[0][0]              \n",
      "__________________________________________________________________________________________________\n",
      "dropout_8 (Dropout)             (None, 150)          0           dense_12[0][0]                   \n",
      "__________________________________________________________________________________________________\n",
      "dense_13 (Dense)                (None, 200)          30200       dropout_8[0][0]                  \n",
      "__________________________________________________________________________________________________\n",
      "batch_normalization_4 (BatchNor (None, 200)          800         dense_13[0][0]                   \n",
      "__________________________________________________________________________________________________\n",
      "dropout_9 (Dropout)             (None, 200)          0           batch_normalization_4[0][0]      \n",
      "__________________________________________________________________________________________________\n",
      "dense_14 (Dense)                (None, 100)          20100       dropout_9[0][0]                  \n",
      "__________________________________________________________________________________________________\n",
      "dropout_10 (Dropout)            (None, 100)          0           dense_14[0][0]                   \n",
      "__________________________________________________________________________________________________\n",
      "dense_15 (Dense)                (None, 70)           7070        dropout_10[0][0]                 \n",
      "__________________________________________________________________________________________________\n",
      "output (Dense)                  (None, 2)            142         dense_15[0][0]                   \n",
      "==================================================================================================\n",
      "Total params: 20,686,562\n",
      "Trainable params: 20,686,162\n",
      "Non-trainable params: 400\n",
      "__________________________________________________________________________________________________\n",
      "None\n"
     ]
    }
   ],
   "source": [
    "essay = Input(shape=(300,), name='essay_input')\n",
    "\n",
    "X = Embedding(output_dim=300, input_dim=max_vocabulary+1, input_length=300 , weights=[embedding_matrix])(essay)\n",
    "\n",
    "lstm_essay = LSTM(100,recurrent_dropout=0.5,kernel_regularizer=regularizers.l2(0.001),return_sequences=True)(X)\n",
    "\n",
    "flatten_1 = Flatten()(lstm_essay)\n",
    "\n",
    "\n",
    "#__________________________________________________________________________________________________________________\n",
    "\n",
    "\n",
    "input_without_text  = Input(shape=(101,1), name='without_text')\n",
    "\n",
    "convo = Conv1D(300 , 3 , activation='relu' ,  kernel_initializer=he_normal(seed=None) , padding='valid')(input_without_text)\n",
    "\n",
    "convo = Conv1D(150 , 3 , activation='relu' ,  kernel_initializer=he_normal(seed=None) , padding='valid')(convo)\n",
    "\n",
    "convo = Conv1D(50 , 3 , activation='relu' ,  kernel_initializer=he_normal(seed=None) , padding='valid')(convo)\n",
    "\n",
    "flatten_without_text = Flatten()(convo)\n",
    "\n",
    "#_____________________________________________________________________________________________________________________\n",
    "\n",
    "x_concat = concatenate([flatten_1  , flatten_without_text])\n",
    "\n",
    "x = Dense(150, activation=\"relu\", kernel_initializer=\"he_normal\" ,kernel_regularizer=regularizers.l2(0.001))(x_concat)\n",
    "\n",
    "x=Dropout(0.5)(x)\n",
    "\n",
    "x = Dense(200,activation=\"sigmoid\",kernel_initializer=\"glorot_normal\" ,kernel_regularizer=regularizers.l2(0.001))(x)\n",
    "\n",
    "x = BatchNormalization()(x)\n",
    "\n",
    "x=Dropout(0.5)(x)\n",
    "\n",
    "x = Dense(100,activation=\"relu\", kernel_initializer=\"he_normal\" ,kernel_regularizer=regularizers.l2(0.001))(x)\n",
    "\n",
    "x=Dropout(0.4)(x)\n",
    "\n",
    "x = Dense(70,activation=\"relu\", kernel_initializer=\"he_normal\" ,kernel_regularizer=regularizers.l2(0.001))(x)\n",
    "\n",
    "output = Dense(2, activation='softmax', name='output')(x)\n",
    "\n",
    "model_3 = Model(inputs=[essay, input_without_text],outputs=[output])\n",
    "\n",
    "print(model_3.summary())"
   ]
  },
  {
   "cell_type": "code",
   "execution_count": 74,
   "metadata": {},
   "outputs": [],
   "source": [
    "checkpoint3_1 = ModelCheckpoint(\"model_3.h5\",\n",
    "                             monitor=\"val_auroc\",\n",
    "                             mode=\"max\",\n",
    "                             save_best_only = True,\n",
    "                             verbose=1)\n",
    "earlystop3_1 = EarlyStopping(monitor = 'val_auroc', \n",
    "                            mode=\"max\",\n",
    "                            min_delta = 0, \n",
    "                            patience = 2,\n",
    "                            verbose = 1)\n",
    "Model3_visualization')\n",
    "tensorboard3_1 = TensorBoard(log_dir='\n",
    "\n",
    "callbacks_3_1 = [checkpoint3_1,earlystop3_1,tensorboard3_1]"
   ]
  },
  {
   "cell_type": "code",
   "execution_count": 76,
   "metadata": {},
   "outputs": [],
   "source": [
    "train_3 = [X_train_pad,rest_features_train]\n",
    "test_3 = [X_test_pad,rest_features_test]"
   ]
  },
  {
   "cell_type": "code",
   "execution_count": 79,
   "metadata": {},
   "outputs": [
    {
     "name": "stdout",
     "output_type": "stream",
     "text": [
      "Train on 81936 samples, validate on 27312 samples\n",
      "Epoch 1/25\n",
      "81936/81936 [==============================] - 96s 1ms/step - loss: 1.3553 - auroc: 0.5116 - val_loss: 1.0655 - val_auroc: 0.5957\n",
      "\n",
      "Epoch 00001: val_auroc improved from -inf to 0.59568, saving model to model_3.h5\n",
      "Epoch 2/25\n",
      "81936/81936 [==============================] - 104s 1ms/step - loss: 0.8709 - auroc: 0.6276 - val_loss: 0.8794 - val_auroc: 0.7240\n",
      "\n",
      "Epoch 00002: val_auroc improved from 0.59568 to 0.72402, saving model to model_3.h5\n",
      "Epoch 3/25\n",
      "81936/81936 [==============================] - 98s 1ms/step - loss: 0.6985 - auroc: 0.7250 - val_loss: 0.7328 - val_auroc: 0.7490\n",
      "\n",
      "Epoch 00003: val_auroc improved from 0.72402 to 0.74897, saving model to model_3.h5\n",
      "Epoch 4/25\n",
      "81936/81936 [==============================] - 98s 1ms/step - loss: 0.6035 - auroc: 0.7561 - val_loss: 0.6673 - val_auroc: 0.7559\n",
      "\n",
      "Epoch 00004: val_auroc improved from 0.74897 to 0.75587, saving model to model_3.h5\n",
      "Epoch 5/25\n",
      "81936/81936 [==============================] - 100s 1ms/step - loss: 0.5366 - auroc: 0.7801 - val_loss: 0.6277 - val_auroc: 0.7581\n",
      "\n",
      "Epoch 00005: val_auroc improved from 0.75587 to 0.75807, saving model to model_3.h5\n",
      "Epoch 6/25\n",
      "81936/81936 [==============================] - 98s 1ms/step - loss: 0.4836 - auroc: 0.8034 - val_loss: 0.5292 - val_auroc: 0.7454\n",
      "\n",
      "Epoch 00006: val_auroc did not improve from 0.75807\n",
      "Epoch 7/25\n",
      "81936/81936 [==============================] - 97s 1ms/step - loss: 0.4370 - auroc: 0.8327 - val_loss: 0.5252 - val_auroc: 0.7324\n",
      "\n",
      "Epoch 00007: val_auroc did not improve from 0.75807\n",
      "Epoch 00007: early stopping\n"
     ]
    }
   ],
   "source": [
    "model_3.compile(optimizer='adam', loss='categorical_crossentropy', metrics=[auroc])\n",
    "\n",
    "history_3= model_3.fit(train_3, y_train, batch_size=800, epochs=25, verbose=1,callbacks=callbacks_3_1, validation_data=(test_3_1, y_test))"
   ]
  },
  {
   "cell_type": "code",
   "execution_count": 82,
   "metadata": {
    "scrolled": true
   },
   "outputs": [
    {
     "data": {
      "image/png": "[encoded data removed]",
      "text/plain": [
       "<Figure size 432x288 with 1 Axes>"
      ]
     },
     "metadata": {
      "needs_background": "light"
     },
     "output_type": "display_data"
    }
   ],
   "source": [
    "%matplotlib inline\n",
    "fig,ax = plt.subplots(1,1)\n",
    "ax.set_xlabel('epoch') ; ax.set_ylabel('Binary Crossentropy Loss')\n",
    "x = list(range(1,8))\n",
    "vy = history_3.history['val_loss']\n",
    "ty = history_3.history['loss']\n",
    "plt_dynamic(x, vy, ty, ax)"
   ]
  },
  {
   "cell_type": "code",
   "execution_count": 33,
   "metadata": {},
   "outputs": [
    {
     "name": "stdout",
     "output_type": "stream",
     "text": [
      "+---------+---------+\n",
      "|  Model  |  AUROC  |\n",
      "+---------+---------+\n",
      "| MODEL 1 | 0.75753 |\n",
      "| MODEL 2 | 0.74968 |\n",
      "| MODEL 3 | 0.75807 |\n",
      "+---------+---------+\n"
     ]
    }
   ],
   "source": [
    "from prettytable import PrettyTable    \n",
    "x = PrettyTable()\n",
    "x.field_names = [\"Model\",\"AUROC\"]\n",
    "x.add_row(['MODEL 1','0.75753'])\n",
    "x.add_row(['MODEL 2','0.74968'])\n",
    "x.add_row(['MODEL 3','0.75807'])\n",
    "\n",
    "print(x)"
   ]
  }
 ],
 "metadata": {
  "kernelspec": {
   "display_name": "Python 3",
   "language": "python",
   "name": "python3"
  },
  "language_info": {
   "codemirror_mode": {
    "name": "ipython",
    "version": 3
   },
   "file_extension": ".py",
   "mimetype": "text/x-python",
   "name": "python",
   "nbconvert_exporter": "python",
   "pygments_lexer": "ipython3",
   "version": "3.7.6"
  }
 },
 "nbformat": 4,
 "nbformat_minor": 4
}
